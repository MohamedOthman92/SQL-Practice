{
 "cells": [
  {
   "cell_type": "markdown",
   "id": "bf17eebd",
   "metadata": {},
   "source": [
    "<div align=\"right\" style=\" font-size: 80%; text-align: center; margin: 0 auto\">\n",
    "<img src=\"https://raw.githubusercontent.com/Explore-AI/Pictures/master/ExploreAI_logos/Logo blue_dark.png\"  style=\"width:25px\" align=\"right\";/>\n",
    "</div>"
   ]
  },
  {
   "cell_type": "markdown",
   "id": "f662d169",
   "metadata": {},
   "source": [
    "# SQL Exam\n",
    "© ExploreAI Academy"
   ]
  },
  {
   "cell_type": "markdown",
   "id": "26af890c",
   "metadata": {},
   "source": [
    "## Instructions to students\n",
    "\n",
    "This challenge is designed to determine how much you have learned so far and will test your knowledge on SQL.\n",
    "\n",
    "The answers for this challenge should be selected on Athena for each corresponding multiple-choice question. The questions are included in this notebook and are numbered according to the Athena questions. The options for each question have also been included.\n",
    "\n",
    "Do not add or remove cells in this notebook. Do not edit or remove the `%%sql` comment as it is required to run each cell.\n",
    "\n",
    "**_Good luck!_**"
   ]
  },
  {
   "cell_type": "code",
   "execution_count": 15,
   "id": "93f3fd76",
   "metadata": {},
   "outputs": [
    {
     "data": {
      "text/html": [
       "<span style=\"None\">displaylimit: Value None will be treated as 0 (no limit)</span>"
      ],
      "text/plain": [
       "displaylimit: Value None will be treated as 0 (no limit)"
      ]
     },
     "metadata": {},
     "output_type": "display_data"
    }
   ],
   "source": [
    "%config SqlMagic.displaylimit = None"
   ]
  },
  {
   "cell_type": "markdown",
   "id": "092d3f5e",
   "metadata": {},
   "source": [
    "## Honour code\n",
    "\n",
    "I, Mohamed Othman, confirm – by submitting this document – that the solutions in this notebook are a result of my own work and that I abide by the EDSA honour code (https://drive.google.com/file/d/1QDCjGZJ8-FmJE3bZdIQNwnJyQKPhHZBn/view?usp=sharing).\n",
    "\n",
    "Non-compliance with the honour code constitutes a material breach of contract."
   ]
  },
  {
   "cell_type": "markdown",
   "id": "b6bdd20c",
   "metadata": {},
   "source": [
    "## The TMDb database\n",
    "\n",
    "In this supplementary exam, you will be exploring [The Movie Database](https://www.themoviedb.org/) – an online movie and TV show database that houses some of the most popular movies and TV shows at your fingertips. The TMDb database supports 39 official languages used in over 180 countries daily and dates back all the way to 2008. \n",
    "\n",
    "\n",
    "<img src=\"https://github.com/Explore-AI/Pictures/blob/master/sql_tmdb.jpg?raw=true\" width=80%/>\n",
    "\n",
    "\n",
    "Below is an Entity Relationship Diagram (ERD) of the TMDb database:\n",
    "\n",
    "<img src=\"https://github.com/Explore-AI/Pictures/blob/master/TMDB_ER_diagram.png?raw=true\" width=70%/>\n",
    "\n",
    "As can be seen from the ERD, the TMDb database consists of `12 tables` containing information about movies, cast, genre, and so much more.  \n",
    "\n",
    "Let's get started!"
   ]
  },
  {
   "cell_type": "markdown",
   "id": "5a0b7683",
   "metadata": {
    "tags": []
   },
   "source": [
    "## Loading the database\n",
    "\n",
    "Before you begin, you need to prepare your SQL environment.  You can do this by loading the magic command `%load_ext sql`."
   ]
  },
  {
   "cell_type": "code",
   "execution_count": 1,
   "id": "0f34ea72",
   "metadata": {},
   "outputs": [
    {
     "name": "stdout",
     "output_type": "stream",
     "text": [
      "\u001b[33mThere's a new jupysql version available (0.10.3), you're running 0.10.2. To upgrade: pip install jupysql --upgrade\u001b[0m\n"
     ]
    }
   ],
   "source": [
    "# Load and activate the SQL extension to allow us to execute SQL in a Jupyter notebook. \n",
    "# If you get an error here, make sure that mysql and pymysql are installed correctly. \n",
    "\n",
    "%load_ext sql"
   ]
  },
  {
   "cell_type": "markdown",
   "id": "3f78b691",
   "metadata": {},
   "source": [
    "Next, go ahead and load your database. To do this, you will need to ensure you have downloaded the `TMDB.db` sqlite file from Athena and have stored it in a known location."
   ]
  },
  {
   "cell_type": "code",
   "execution_count": 2,
   "id": "d279a04d",
   "metadata": {},
   "outputs": [
    {
     "data": {
      "text/html": [
       "<span style=\"None\">Connecting to &#x27;sqlite:///TMDB.db&#x27;</span>"
      ],
      "text/plain": [
       "Connecting to 'sqlite:///TMDB.db'"
      ]
     },
     "metadata": {},
     "output_type": "display_data"
    }
   ],
   "source": [
    "# Establish a connection to the local database using the '%sql' magic command.\n",
    "# Replace 'password' with our connection password and `db_name` with our database name. \n",
    "# If you get an error here, please make sure the database name or password is correct.\n",
    "\n",
    "%sql sqlite:///TMDB.db"
   ]
  },
  {
   "cell_type": "markdown",
   "id": "6f8bbc0b-c31c-4274-ad13-399a9182a260",
   "metadata": {},
   "source": [
    "If the above line didn't throw out any errors, then you should be good to go. Good luck with the exam! "
   ]
  },
  {
   "cell_type": "markdown",
   "id": "f5ed5285",
   "metadata": {},
   "source": [
    "## Questions on SQL\n",
    "\n",
    "Use the given cell below each question to execute your SQL queries to find the correct input from the options provided. Your solution should match one of the multiple-choice questions on Athena."
   ]
  },
  {
   "cell_type": "markdown",
   "id": "86802726",
   "metadata": {},
   "source": [
    "### Question 1\n",
    "\n",
    "Who won the Oscar for “Actor in a Leading Role” in  2015?\n",
    "\n",
    "(Hint: The winner is indicated as '1.0'.)\n",
    "\n",
    "**Options:** \n",
    "\n",
    "  - Micheal Fassbender\n",
    "  - Natalie Portman\n",
    "  - Leonardo DiCaprio\n",
    "  - Eddie Redmayne\n"
   ]
  },
  {
   "cell_type": "code",
   "execution_count": 138,
   "id": "91f3421f",
   "metadata": {},
   "outputs": [
    {
     "data": {
      "text/html": [
       "<span style=\"None\">Running query in &#x27;sqlite:///TMDB.db&#x27;</span>"
      ],
      "text/plain": [
       "Running query in 'sqlite:///TMDB.db'"
      ]
     },
     "metadata": {},
     "output_type": "display_data"
    },
    {
     "data": {
      "text/html": [
       "<table>\n",
       "    <thead>\n",
       "        <tr>\n",
       "            <th>year</th>\n",
       "            <th>award</th>\n",
       "            <th>winner</th>\n",
       "            <th>name</th>\n",
       "            <th>film</th>\n",
       "        </tr>\n",
       "    </thead>\n",
       "    <tbody>\n",
       "        <tr>\n",
       "            <td>2015</td>\n",
       "            <td>Actor in a Leading Role</td>\n",
       "            <td>1.0</td>\n",
       "            <td>Leonardo DiCaprio</td>\n",
       "            <td>The Revenant</td>\n",
       "        </tr>\n",
       "    </tbody>\n",
       "</table>"
      ],
      "text/plain": [
       "+------+-------------------------+--------+-------------------+--------------+\n",
       "| year |          award          | winner |        name       |     film     |\n",
       "+------+-------------------------+--------+-------------------+--------------+\n",
       "| 2015 | Actor in a Leading Role |  1.0   | Leonardo DiCaprio | The Revenant |\n",
       "+------+-------------------------+--------+-------------------+--------------+"
      ]
     },
     "execution_count": 138,
     "metadata": {},
     "output_type": "execute_result"
    }
   ],
   "source": [
    "%%sql\n",
    "SELECT\n",
    "    *\n",
    "FROM\n",
    "    Oscars\n",
    "WHERE\n",
    "    year = 2015 AND award = \"Actor in a Leading Role\" AND winner = 1.0"
   ]
  },
  {
   "cell_type": "markdown",
   "id": "9545206c",
   "metadata": {},
   "source": [
    "### Question 2\n",
    "\n",
    "What query will produce the ten oldest movies in the database?\n",
    "\n",
    "**Options:**\n",
    "\n",
    " - SELECT TOP(10) * FROM movies WHERE release_date ORDER BY release_date ASC\n",
    "\n",
    " - SELECT  * FROM movies WHERE release_date IS NOT NULL ORDER BY release_date ASC LIMIT 10\n",
    "\n",
    " - SELECT * FROM movies WHERE release_date IS NOT NULL ORDER BY release_date DESC LIMIT 10\n",
    "\n",
    " -  SELECT * FROM movies WHERE release_date IS NULL ORDER BY release_date DESC LIMIT 10"
   ]
  },
  {
   "cell_type": "code",
   "execution_count": 7,
   "id": "748f4263",
   "metadata": {},
   "outputs": [
    {
     "data": {
      "text/html": [
       "<span style=\"None\">Running query in &#x27;sqlite:///TMDB.db&#x27;</span>"
      ],
      "text/plain": [
       "Running query in 'sqlite:///TMDB.db'"
      ]
     },
     "metadata": {},
     "output_type": "display_data"
    },
    {
     "data": {
      "text/html": [
       "<table>\n",
       "    <thead>\n",
       "        <tr>\n",
       "            <th>movie_id</th>\n",
       "            <th>title</th>\n",
       "            <th>release_date</th>\n",
       "            <th>budget</th>\n",
       "            <th>homepage</th>\n",
       "            <th>original_language</th>\n",
       "            <th>original_title</th>\n",
       "            <th>overview</th>\n",
       "            <th>popularity</th>\n",
       "            <th>revenue</th>\n",
       "            <th>runtime</th>\n",
       "            <th>release_status</th>\n",
       "            <th>tagline</th>\n",
       "            <th>vote_average</th>\n",
       "            <th>vote_count</th>\n",
       "        </tr>\n",
       "    </thead>\n",
       "    <tbody>\n",
       "        <tr>\n",
       "            <td>3059</td>\n",
       "            <td>Intolerance</td>\n",
       "            <td>1916-09-04 00:00:00.000000</td>\n",
       "            <td>385907</td>\n",
       "            <td>None</td>\n",
       "            <td>en</td>\n",
       "            <td>Intolerance</td>\n",
       "            <td>The story of a poor young woman, separated by prejudice from her husband and baby, is interwoven with tales of intolerance from throughout history.</td>\n",
       "            <td>3.232447</td>\n",
       "            <td>8394751.0</td>\n",
       "            <td>197.0</td>\n",
       "            <td>Released</td>\n",
       "            <td>The Cruel Hand of Intolerance</td>\n",
       "            <td>7.4</td>\n",
       "            <td>60</td>\n",
       "        </tr>\n",
       "        <tr>\n",
       "            <td>3060</td>\n",
       "            <td>The Big Parade</td>\n",
       "            <td>1925-11-05 00:00:00.000000</td>\n",
       "            <td>245000</td>\n",
       "            <td>None</td>\n",
       "            <td>en</td>\n",
       "            <td>The Big Parade</td>\n",
       "            <td>The story of an idle rich boy who joins the US Army's Rainbow Division and is sent to France to fight in World War I, becomes friends with two working class men, experiences the horrors of trench warfare, and finds love with a French girl.</td>\n",
       "            <td>0.785744</td>\n",
       "            <td>22000000.0</td>\n",
       "            <td>151.0</td>\n",
       "            <td>Released</td>\n",
       "            <td>None</td>\n",
       "            <td>7.0</td>\n",
       "            <td>21</td>\n",
       "        </tr>\n",
       "        <tr>\n",
       "            <td>19</td>\n",
       "            <td>Metropolis</td>\n",
       "            <td>1927-01-10 00:00:00.000000</td>\n",
       "            <td>92620000</td>\n",
       "            <td>None</td>\n",
       "            <td>de</td>\n",
       "            <td>Metropolis</td>\n",
       "            <td>In a futuristic city sharply divided between the working class and the city planners, the son of the city's mastermind falls in love with a working class prophet who predicts the coming of a savior to mediate their differences.</td>\n",
       "            <td>32.351527</td>\n",
       "            <td>650422.0</td>\n",
       "            <td>153.0</td>\n",
       "            <td>Released</td>\n",
       "            <td>There can be no understanding between the hands and the brain unless the heart acts as mediator.</td>\n",
       "            <td>8.0</td>\n",
       "            <td>657</td>\n",
       "        </tr>\n",
       "        <tr>\n",
       "            <td>905</td>\n",
       "            <td>Pandora's Box</td>\n",
       "            <td>1929-01-30 00:00:00.000000</td>\n",
       "            <td>0</td>\n",
       "            <td>None</td>\n",
       "            <td>de</td>\n",
       "            <td>Die Bnchse der Pandora</td>\n",
       "            <td>The rise and inevitable fall of an amoral but naive young woman whose insouciant eroticism inspires lust and violence in those around her.</td>\n",
       "            <td>1.824184</td>\n",
       "            <td>0.0</td>\n",
       "            <td>109.0</td>\n",
       "            <td>Released</td>\n",
       "            <td>None</td>\n",
       "            <td>7.6</td>\n",
       "            <td>45</td>\n",
       "        </tr>\n",
       "        <tr>\n",
       "            <td>65203</td>\n",
       "            <td>The Broadway Melody</td>\n",
       "            <td>1929-02-08 00:00:00.000000</td>\n",
       "            <td>379000</td>\n",
       "            <td>None</td>\n",
       "            <td>en</td>\n",
       "            <td>The Broadway Melody</td>\n",
       "            <td>Harriet and Queenie Mahoney, a vaudeville act, come to Broadway, where their friend Eddie Kerns needs them for his number in one of Francis Zanfield's shows. Eddie was in love with Harriet, but when he meets Queenie, he falls in love to her, but she is courted by Jock Warriner, a member of the New Yorker high society. It takes a while till Queenie recognizes, that she is for Jock nothing more than a toy, and it also takes a while till Harriet recognizes, that Eddie is in love with Queenie</td>\n",
       "            <td>0.968865</td>\n",
       "            <td>4358000.0</td>\n",
       "            <td>100.0</td>\n",
       "            <td>Released</td>\n",
       "            <td>The pulsating drama of Broadway's bared heart speaks and sings with a voice to stir your soul!</td>\n",
       "            <td>5.0</td>\n",
       "            <td>19</td>\n",
       "        </tr>\n",
       "        <tr>\n",
       "            <td>22301</td>\n",
       "            <td>Hell's Angels</td>\n",
       "            <td>1930-11-15 00:00:00.000000</td>\n",
       "            <td>3950000</td>\n",
       "            <td>None</td>\n",
       "            <td>en</td>\n",
       "            <td>Hell's Angels</td>\n",
       "            <td>Two brothers attending Oxford enlist with the Royal Flying Corps when World War I breaks out. Roy and Monte Rutledge have very different personalities. Monte is a freewheeling womanizer, even with his brother's girlfriend Helen. He also proves to have a yellow streak when it comes to his Night Patrol duties. Roy is made of strong moral fiber and attempts to keep his brother in line. Both volunteer for an extremely risky two man bombing mission for different reasons. Monte wants to lose his cowardly reputation and Roy seeks to protect his brother. Roy loves Helen; Helen enjoys an affair with Monte; before they leave on their mission over Germany they find her in still another man's arms.  Their assignment to knock out a strategic German munitions facility is a booming success, but with a squadron of fighters bearing down on them afterwards, escape seems unlikely.</td>\n",
       "            <td>8.484123</td>\n",
       "            <td>8000000.0</td>\n",
       "            <td>127.0</td>\n",
       "            <td>Released</td>\n",
       "            <td>Howard Hughes' Thrilling Multi-Million Dollar Air Spectacle</td>\n",
       "            <td>6.1</td>\n",
       "            <td>19</td>\n",
       "        </tr>\n",
       "        <tr>\n",
       "            <td>22649</td>\n",
       "            <td>A Farewell to Arms</td>\n",
       "            <td>1932-12-08 00:00:00.000000</td>\n",
       "            <td>4</td>\n",
       "            <td>None</td>\n",
       "            <td>en</td>\n",
       "            <td>A Farewell to Arms</td>\n",
       "            <td>British nurse Catherine Barkley (Helen Hayes) and American Lieutenant Frederic Henry (Gary Cooper) fall in love during the First World War in Italy. Eventually separated by Frederic's transfer, tremendous challenges and difficult decisions face each, as the war rages on. Academy Awards winner for Best Cinematography and for Best Sound, Recording. Nominated for Best Picture and for Best Art Direction.</td>\n",
       "            <td>1.199451</td>\n",
       "            <td>25.0</td>\n",
       "            <td>89.0</td>\n",
       "            <td>Released</td>\n",
       "            <td>Every woman who has loved will understand</td>\n",
       "            <td>6.2</td>\n",
       "            <td>28</td>\n",
       "        </tr>\n",
       "        <tr>\n",
       "            <td>3062</td>\n",
       "            <td>42nd Street</td>\n",
       "            <td>1933-02-02 00:00:00.000000</td>\n",
       "            <td>439000</td>\n",
       "            <td>None</td>\n",
       "            <td>en</td>\n",
       "            <td>42nd Street</td>\n",
       "            <td>A producer puts on what may be his last Broadway show, and at the last moment a chorus girl has to replace the star.</td>\n",
       "            <td>1.933366</td>\n",
       "            <td>2281000.0</td>\n",
       "            <td>89.0</td>\n",
       "            <td>Released</td>\n",
       "            <td>None</td>\n",
       "            <td>6.1</td>\n",
       "            <td>37</td>\n",
       "        </tr>\n",
       "        <tr>\n",
       "            <td>43595</td>\n",
       "            <td>She Done Him Wrong</td>\n",
       "            <td>1933-02-09 00:00:00.000000</td>\n",
       "            <td>200000</td>\n",
       "            <td>None</td>\n",
       "            <td>en</td>\n",
       "            <td>She Done Him Wrong</td>\n",
       "            <td>\"New York singer and nightclub owner Lady Lou has more men friends than you can imagine. Unfortunately one of them is a vicious criminal who's escaped and is on the way to see \"\"his\"\" girl, not realising she hasn't exactly been faithful in his absence. Help is at hand in the form of young Captain Cummings a local temperance league leader though.\"</td>\n",
       "            <td>0.622752</td>\n",
       "            <td>2200000.0</td>\n",
       "            <td>66.0</td>\n",
       "            <td>Released</td>\n",
       "            <td>Mae West gives a 'Hot Time' to the nation!</td>\n",
       "            <td>5.1</td>\n",
       "            <td>27</td>\n",
       "        </tr>\n",
       "        <tr>\n",
       "            <td>3078</td>\n",
       "            <td>It Happened One Night</td>\n",
       "            <td>1934-02-22 00:00:00.000000</td>\n",
       "            <td>325000</td>\n",
       "            <td>None</td>\n",
       "            <td>en</td>\n",
       "            <td>It Happened One Night</td>\n",
       "            <td>Ellie Andrews has just tied the knot with society aviator King Westley when she is whisked away to her father's yacht and out of King's clutches. Ellie jumps ship and eventually winds up on a bus headed back to her husband. Reluctantly she must accept the help of out-of- work reporter Peter Warne. Actually, Warne doesn't give her any choice: either she sticks with him until he gets her back to her husband, or he'll blow the whistle on Ellie to her father. Either way, Peter gets what he wants... a really juicy newspaper story!</td>\n",
       "            <td>11.871424</td>\n",
       "            <td>4500000.0</td>\n",
       "            <td>105.0</td>\n",
       "            <td>Released</td>\n",
       "            <td>TOGETHER... for the first time</td>\n",
       "            <td>7.7</td>\n",
       "            <td>275</td>\n",
       "        </tr>\n",
       "    </tbody>\n",
       "</table>\n",
       "<span style=\"font-style:italic;text-align:center;\">Truncated to <a href=\"https://jupysql.ploomber.io/en/latest/api/configuration.html#displaylimit\">displaylimit</a> of 10.</span>"
      ],
      "text/plain": [
       "+----------+-----------------------+----------------------------+----------+----------+-------------------+------------------------+------------------------------------------------------------------------------------------------------------------------------------------------------------------------------------------------------------------------------------------------------------------------------------------------------------------------------------------------------------------------------------------------------------------------------------------------------------------------------------------------------------------------------------------------------------------------------------------------------------------------------------------------------------------------------------------------------------------------------------------------------------------------------------------------------------------------------------------------------------------------------------------------------------+------------+------------+---------+----------------+--------------------------------------------------------------------------------------------------+--------------+------------+\n",
       "| movie_id |         title         |        release_date        |  budget  | homepage | original_language |     original_title     |                                                                                                                                                                                                                                                                                                                                                                                                                                                  overview                                                                                                                                                                                                                                                                                                                                                                                                                                                  | popularity |  revenue   | runtime | release_status |                                             tagline                                              | vote_average | vote_count |\n",
       "+----------+-----------------------+----------------------------+----------+----------+-------------------+------------------------+------------------------------------------------------------------------------------------------------------------------------------------------------------------------------------------------------------------------------------------------------------------------------------------------------------------------------------------------------------------------------------------------------------------------------------------------------------------------------------------------------------------------------------------------------------------------------------------------------------------------------------------------------------------------------------------------------------------------------------------------------------------------------------------------------------------------------------------------------------------------------------------------------------+------------+------------+---------+----------------+--------------------------------------------------------------------------------------------------+--------------+------------+\n",
       "|   3059   |      Intolerance      | 1916-09-04 00:00:00.000000 |  385907  |   None   |         en        |      Intolerance       |                                                                                                                                                                                                                                                                                                                                                                            The story of a poor young woman, separated by prejudice from her husband and baby, is interwoven with tales of intolerance from throughout history.                                                                                                                                                                                                                                                                                                                                                                             |  3.232447  | 8394751.0  |  197.0  |    Released    |                                  The Cruel Hand of Intolerance                                   |     7.4      |     60     |\n",
       "|   3060   |     The Big Parade    | 1925-11-05 00:00:00.000000 |  245000  |   None   |         en        |     The Big Parade     |                                                                                                                                                                                                                                                                                                                              The story of an idle rich boy who joins the US Army's Rainbow Division and is sent to France to fight in World War I, becomes friends with two working class men, experiences the horrors of trench warfare, and finds love with a French girl.                                                                                                                                                                                                                                                                                                                               |  0.785744  | 22000000.0 |  151.0  |    Released    |                                               None                                               |     7.0      |     21     |\n",
       "|    19    |       Metropolis      | 1927-01-10 00:00:00.000000 | 92620000 |   None   |         de        |       Metropolis       |                                                                                                                                                                                                                                                                                                                                    In a futuristic city sharply divided between the working class and the city planners, the son of the city's mastermind falls in love with a working class prophet who predicts the coming of a savior to mediate their differences.                                                                                                                                                                                                                                                                                                                                     | 32.351527  |  650422.0  |  153.0  |    Released    | There can be no understanding between the hands and the brain unless the heart acts as mediator. |     8.0      |    657     |\n",
       "|   905    |     Pandora's Box     | 1929-01-30 00:00:00.000000 |    0     |   None   |         de        | Die Bnchse der Pandora |                                                                                                                                                                                                                                                                                                                                                                                 The rise and inevitable fall of an amoral but naive young woman whose insouciant eroticism inspires lust and violence in those around her.                                                                                                                                                                                                                                                                                                                                                                                 |  1.824184  |    0.0     |  109.0  |    Released    |                                               None                                               |     7.6      |     45     |\n",
       "|  65203   |  The Broadway Melody  | 1929-02-08 00:00:00.000000 |  379000  |   None   |         en        |  The Broadway Melody   |                                                                                                                                                                                               Harriet and Queenie Mahoney, a vaudeville act, come to Broadway, where their friend Eddie Kerns needs them for his number in one of Francis Zanfield's shows. Eddie was in love with Harriet, but when he meets Queenie, he falls in love to her, but she is courted by Jock Warriner, a member of the New Yorker high society. It takes a while till Queenie recognizes, that she is for Jock nothing more than a toy, and it also takes a while till Harriet recognizes, that Eddie is in love with Queenie                                                                                                                                                                                                |  0.968865  | 4358000.0  |  100.0  |    Released    |  The pulsating drama of Broadway's bared heart speaks and sings with a voice to stir your soul!  |     5.0      |     19     |\n",
       "|  22301   |     Hell's Angels     | 1930-11-15 00:00:00.000000 | 3950000  |   None   |         en        |     Hell's Angels      | Two brothers attending Oxford enlist with the Royal Flying Corps when World War I breaks out. Roy and Monte Rutledge have very different personalities. Monte is a freewheeling womanizer, even with his brother's girlfriend Helen. He also proves to have a yellow streak when it comes to his Night Patrol duties. Roy is made of strong moral fiber and attempts to keep his brother in line. Both volunteer for an extremely risky two man bombing mission for different reasons. Monte wants to lose his cowardly reputation and Roy seeks to protect his brother. Roy loves Helen; Helen enjoys an affair with Monte; before they leave on their mission over Germany they find her in still another man's arms.  Their assignment to knock out a strategic German munitions facility is a booming success, but with a squadron of fighters bearing down on them afterwards, escape seems unlikely. |  8.484123  | 8000000.0  |  127.0  |    Released    |                   Howard Hughes' Thrilling Multi-Million Dollar Air Spectacle                    |     6.1      |     19     |\n",
       "|  22649   |   A Farewell to Arms  | 1932-12-08 00:00:00.000000 |    4     |   None   |         en        |   A Farewell to Arms   |                                                                                                                                                                                                                                            British nurse Catherine Barkley (Helen Hayes) and American Lieutenant Frederic Henry (Gary Cooper) fall in love during the First World War in Italy. Eventually separated by Frederic's transfer, tremendous challenges and difficult decisions face each, as the war rages on. Academy Awards winner for Best Cinematography and for Best Sound, Recording. Nominated for Best Picture and for Best Art Direction.                                                                                                                                                                                                                                             |  1.199451  |    25.0    |   89.0  |    Released    |                            Every woman who has loved will understand                             |     6.2      |     28     |\n",
       "|   3062   |      42nd Street      | 1933-02-02 00:00:00.000000 |  439000  |   None   |         en        |      42nd Street       |                                                                                                                                                                                                                                                                                                                                                                                            A producer puts on what may be his last Broadway show, and at the last moment a chorus girl has to replace the star.                                                                                                                                                                                                                                                                                                                                                                                            |  1.933366  | 2281000.0  |   89.0  |    Released    |                                               None                                               |     6.1      |     37     |\n",
       "|  43595   |   She Done Him Wrong  | 1933-02-09 00:00:00.000000 |  200000  |   None   |         en        |   She Done Him Wrong   |                                                                                                                                                                                                                                                                        \"New York singer and nightclub owner Lady Lou has more men friends than you can imagine. Unfortunately one of them is a vicious criminal who's escaped and is on the way to see \"\"his\"\" girl, not realising she hasn't exactly been faithful in his absence. Help is at hand in the form of young Captain Cummings a local temperance league leader though.\"                                                                                                                                                                                                                                                                        |  0.622752  | 2200000.0  |   66.0  |    Released    |                            Mae West gives a 'Hot Time' to the nation!                            |     5.1      |     27     |\n",
       "|   3078   | It Happened One Night | 1934-02-22 00:00:00.000000 |  325000  |   None   |         en        | It Happened One Night  |                                                                                                                                                                            Ellie Andrews has just tied the knot with society aviator King Westley when she is whisked away to her father's yacht and out of King's clutches. Ellie jumps ship and eventually winds up on a bus headed back to her husband. Reluctantly she must accept the help of out-of- work reporter Peter Warne. Actually, Warne doesn't give her any choice: either she sticks with him until he gets her back to her husband, or he'll blow the whistle on Ellie to her father. Either way, Peter gets what he wants... a really juicy newspaper story!                                                                                                                                                                             | 11.871424  | 4500000.0  |  105.0  |    Released    |                                  TOGETHER... for the first time                                  |     7.7      |    275     |\n",
       "+----------+-----------------------+----------------------------+----------+----------+-------------------+------------------------+------------------------------------------------------------------------------------------------------------------------------------------------------------------------------------------------------------------------------------------------------------------------------------------------------------------------------------------------------------------------------------------------------------------------------------------------------------------------------------------------------------------------------------------------------------------------------------------------------------------------------------------------------------------------------------------------------------------------------------------------------------------------------------------------------------------------------------------------------------------------------------------------------------+------------+------------+---------+----------------+--------------------------------------------------------------------------------------------------+--------------+------------+\n",
       "Truncated to displaylimit of 10."
      ]
     },
     "execution_count": 7,
     "metadata": {},
     "output_type": "execute_result"
    }
   ],
   "source": [
    "%%sql\n",
    "SELECT * FROM movies WHERE release_date IS NOT NULL ORDER BY release_date ASC LIMIT 10"
   ]
  },
  {
   "cell_type": "markdown",
   "id": "79dc3d5f",
   "metadata": {},
   "source": [
    "### Question 3\n",
    "\n",
    "How many unique awards are there in the Oscars table?\n",
    "\n",
    "**Options:**\n",
    " - 141\n",
    " - 53 \n",
    " - 80\n",
    " - 114"
   ]
  },
  {
   "cell_type": "code",
   "execution_count": 133,
   "id": "f4621a53",
   "metadata": {},
   "outputs": [
    {
     "data": {
      "text/html": [
       "<span style=\"None\">Running query in &#x27;sqlite:///TMDB.db&#x27;</span>"
      ],
      "text/plain": [
       "Running query in 'sqlite:///TMDB.db'"
      ]
     },
     "metadata": {},
     "output_type": "display_data"
    },
    {
     "data": {
      "text/html": [
       "<table>\n",
       "    <thead>\n",
       "        <tr>\n",
       "            <th>COUNT(DISTINCT award)</th>\n",
       "        </tr>\n",
       "    </thead>\n",
       "    <tbody>\n",
       "        <tr>\n",
       "            <td>114</td>\n",
       "        </tr>\n",
       "    </tbody>\n",
       "</table>"
      ],
      "text/plain": [
       "+-----------------------+\n",
       "| COUNT(DISTINCT award) |\n",
       "+-----------------------+\n",
       "|          114          |\n",
       "+-----------------------+"
      ]
     },
     "execution_count": 133,
     "metadata": {},
     "output_type": "execute_result"
    }
   ],
   "source": [
    "%%sql\n",
    "SELECT\n",
    "    COUNT(DISTINCT award)\n",
    "FROM\n",
    "    Oscars"
   ]
  },
  {
   "cell_type": "markdown",
   "id": "a8b06373",
   "metadata": {},
   "source": [
    "### Question 4\n",
    "\n",
    "How many movies are there that contain the word “Spider” within their title?\n",
    "\n",
    "**Options:**\n",
    " - 0\n",
    " - 5\n",
    " - 1\n",
    " - 9"
   ]
  },
  {
   "cell_type": "code",
   "execution_count": 22,
   "id": "1e003247",
   "metadata": {},
   "outputs": [
    {
     "data": {
      "text/html": [
       "<span style=\"None\">Running query in &#x27;sqlite:///TMDB.db&#x27;</span>"
      ],
      "text/plain": [
       "Running query in 'sqlite:///TMDB.db'"
      ]
     },
     "metadata": {},
     "output_type": "display_data"
    },
    {
     "data": {
      "text/html": [
       "<table>\n",
       "    <thead>\n",
       "        <tr>\n",
       "            <th>COUNT(DISTINCT title)</th>\n",
       "        </tr>\n",
       "    </thead>\n",
       "    <tbody>\n",
       "        <tr>\n",
       "            <td>9</td>\n",
       "        </tr>\n",
       "    </tbody>\n",
       "</table>"
      ],
      "text/plain": [
       "+-----------------------+\n",
       "| COUNT(DISTINCT title) |\n",
       "+-----------------------+\n",
       "|           9           |\n",
       "+-----------------------+"
      ]
     },
     "execution_count": 22,
     "metadata": {},
     "output_type": "execute_result"
    }
   ],
   "source": [
    "%%sql\n",
    "SELECT\n",
    "    COUNT(DISTINCT title)\n",
    "FROM\n",
    "    movies\n",
    "WHERE\n",
    "    title LIKE \"%Spider%\""
   ]
  },
  {
   "cell_type": "markdown",
   "id": "2f77c5bd",
   "metadata": {},
   "source": [
    "### Question 5\n",
    "\n",
    "How many movies are there that are both in the \"Thriller\" genre and contain the word “love” anywhere in the keywords?\n",
    "\n",
    "\n",
    "**Options:**\n",
    " - 48\n",
    " - 38\n",
    " - 14\n",
    " - 1"
   ]
  },
  {
   "cell_type": "code",
   "execution_count": 41,
   "id": "abc5146c",
   "metadata": {},
   "outputs": [
    {
     "data": {
      "text/html": [
       "<span style=\"None\">Running query in &#x27;sqlite:///TMDB.db&#x27;</span>"
      ],
      "text/plain": [
       "Running query in 'sqlite:///TMDB.db'"
      ]
     },
     "metadata": {},
     "output_type": "display_data"
    },
    {
     "data": {
      "text/html": [
       "<table>\n",
       "    <thead>\n",
       "        <tr>\n",
       "            <th>COUNT(DISTINCT m.title)</th>\n",
       "        </tr>\n",
       "    </thead>\n",
       "    <tbody>\n",
       "        <tr>\n",
       "            <td>48</td>\n",
       "        </tr>\n",
       "    </tbody>\n",
       "</table>"
      ],
      "text/plain": [
       "+-------------------------+\n",
       "| COUNT(DISTINCT m.title) |\n",
       "+-------------------------+\n",
       "|            48           |\n",
       "+-------------------------+"
      ]
     },
     "execution_count": 41,
     "metadata": {},
     "output_type": "execute_result"
    }
   ],
   "source": [
    "%%sql\n",
    "SELECT\n",
    "    COUNT(DISTINCT m.title)\n",
    "FROM\n",
    "    movies AS m\n",
    "JOIN\n",
    "    genremap AS gm\n",
    "ON\n",
    "    m.movie_id = gm.movie_id\n",
    "JOIN\n",
    "    genres AS g\n",
    "ON\n",
    "    gm.genre_id = g.genre_id\n",
    "JOIN\n",
    "    keywordmap AS km\n",
    "ON\n",
    "    m.movie_id = km.movie_id\n",
    "JOIN\n",
    "    keywords AS k\n",
    "ON\n",
    "    km.keyword_id = k.keyword_id\n",
    "WHERE\n",
    "    g.genre_name = \"Thriller\" AND k.keyword_name LIKE \"%love%\""
   ]
  },
  {
   "cell_type": "markdown",
   "id": "8c6e82eb",
   "metadata": {},
   "source": [
    "### Question 6\n",
    "\n",
    "How many movies are there that were released between 1 August 2006 ('2006-08-01') and 1 October 2009 ('2009-10-01') that have a popularity score of more than 40 and a budget of less than 50 000 000?\n",
    "\n",
    " \n",
    "**Options:**\n",
    "\n",
    " - 29\n",
    " - 23\n",
    " - 28\n",
    " - 35"
   ]
  },
  {
   "cell_type": "code",
   "execution_count": 50,
   "id": "e8de6542",
   "metadata": {},
   "outputs": [
    {
     "data": {
      "text/html": [
       "<span style=\"None\">Running query in &#x27;sqlite:///TMDB.db&#x27;</span>"
      ],
      "text/plain": [
       "Running query in 'sqlite:///TMDB.db'"
      ]
     },
     "metadata": {},
     "output_type": "display_data"
    },
    {
     "data": {
      "text/html": [
       "<table>\n",
       "    <thead>\n",
       "        <tr>\n",
       "            <th>COUNT(DISTINCT title)</th>\n",
       "        </tr>\n",
       "    </thead>\n",
       "    <tbody>\n",
       "        <tr>\n",
       "            <td>29</td>\n",
       "        </tr>\n",
       "    </tbody>\n",
       "</table>"
      ],
      "text/plain": [
       "+-----------------------+\n",
       "| COUNT(DISTINCT title) |\n",
       "+-----------------------+\n",
       "|           29          |\n",
       "+-----------------------+"
      ]
     },
     "execution_count": 50,
     "metadata": {},
     "output_type": "execute_result"
    }
   ],
   "source": [
    "%%sql\n",
    "SELECT\n",
    "    COUNT(DISTINCT title)\n",
    "FROM\n",
    "    movies\n",
    "WHERE\n",
    "    release_date BETWEEN '2006-08-01' AND '2009-10-01' AND popularity > 40 AND budget < 50000000"
   ]
  },
  {
   "cell_type": "markdown",
   "id": "cf0d12b1",
   "metadata": {},
   "source": [
    "### Question 7\n",
    "\n",
    "How many unique characters has \"Vin Diesel\" played so far in the database?\n",
    "\n",
    "**Options:**\n",
    " - 24\n",
    " - 19\n",
    " - 18\n",
    " - 16"
   ]
  },
  {
   "cell_type": "code",
   "execution_count": 54,
   "id": "cc1eecb5",
   "metadata": {},
   "outputs": [
    {
     "data": {
      "text/html": [
       "<span style=\"None\">Running query in &#x27;sqlite:///TMDB.db&#x27;</span>"
      ],
      "text/plain": [
       "Running query in 'sqlite:///TMDB.db'"
      ]
     },
     "metadata": {},
     "output_type": "display_data"
    },
    {
     "data": {
      "text/html": [
       "<table>\n",
       "    <thead>\n",
       "        <tr>\n",
       "            <th>COUNT(DISTINCT c.characters)</th>\n",
       "        </tr>\n",
       "    </thead>\n",
       "    <tbody>\n",
       "        <tr>\n",
       "            <td>16</td>\n",
       "        </tr>\n",
       "    </tbody>\n",
       "</table>"
      ],
      "text/plain": [
       "+------------------------------+\n",
       "| COUNT(DISTINCT c.characters) |\n",
       "+------------------------------+\n",
       "|              16              |\n",
       "+------------------------------+"
      ]
     },
     "execution_count": 54,
     "metadata": {},
     "output_type": "execute_result"
    }
   ],
   "source": [
    "%%sql\n",
    "SELECT\n",
    "    COUNT(DISTINCT c.characters)\n",
    "FROM\n",
    "    movies AS m\n",
    "JOIN\n",
    "    casts AS c\n",
    "ON\n",
    "    m.movie_id = c.movie_id\n",
    "JOIN\n",
    "    actors AS a\n",
    "ON\n",
    "    c.actor_id = a.actor_id\n",
    "WHERE \n",
    "    a.actor_name = \"Vin Diesel\""
   ]
  },
  {
   "cell_type": "markdown",
   "id": "297fc8b8",
   "metadata": {},
   "source": [
    "### Question 8\n",
    "\n",
    "What are the genres of the movie “The Royal Tenenbaums”?\n",
    "\n",
    "\n",
    "**Options:**\n",
    " - Action, Romance\n",
    " - Drama, Comedy\n",
    " - Crime, Thriller\n",
    " - Drama, Romance"
   ]
  },
  {
   "cell_type": "code",
   "execution_count": 58,
   "id": "e2ad1e00",
   "metadata": {},
   "outputs": [
    {
     "data": {
      "text/html": [
       "<span style=\"None\">Running query in &#x27;sqlite:///TMDB.db&#x27;</span>"
      ],
      "text/plain": [
       "Running query in 'sqlite:///TMDB.db'"
      ]
     },
     "metadata": {},
     "output_type": "display_data"
    },
    {
     "data": {
      "text/html": [
       "<table>\n",
       "    <thead>\n",
       "        <tr>\n",
       "            <th>title</th>\n",
       "            <th>genre_name</th>\n",
       "        </tr>\n",
       "    </thead>\n",
       "    <tbody>\n",
       "        <tr>\n",
       "            <td>The Royal Tenenbaums</td>\n",
       "            <td>Drama</td>\n",
       "        </tr>\n",
       "        <tr>\n",
       "            <td>The Royal Tenenbaums</td>\n",
       "            <td>Comedy</td>\n",
       "        </tr>\n",
       "    </tbody>\n",
       "</table>"
      ],
      "text/plain": [
       "+----------------------+------------+\n",
       "|        title         | genre_name |\n",
       "+----------------------+------------+\n",
       "| The Royal Tenenbaums |   Drama    |\n",
       "| The Royal Tenenbaums |   Comedy   |\n",
       "+----------------------+------------+"
      ]
     },
     "execution_count": 58,
     "metadata": {},
     "output_type": "execute_result"
    }
   ],
   "source": [
    "%%sql\n",
    "SELECT\n",
    "    m.title,\n",
    "    g.genre_name\n",
    "FROM\n",
    "    movies AS m\n",
    "JOIN\n",
    "    genremap AS gm\n",
    "ON\n",
    "    m.movie_id = gm.movie_id\n",
    "JOIN\n",
    "    genres AS g\n",
    "ON\n",
    "    gm.genre_id = g.genre_id\n",
    "WHERE\n",
    "    m.title = 'The Royal Tenenbaums'"
   ]
  },
  {
   "cell_type": "markdown",
   "id": "d3ed71a0",
   "metadata": {},
   "source": [
    "### Question 9\n",
    "\n",
    "What are the three production companies that have the highest movie popularity score on average, as recorded within the database?\n",
    "\n",
    "\n",
    "**Options:**\n",
    "\n",
    " - MCL Films S.A., Turner Pictures, and George Stevens Productions\n",
    " - The Donners' Company, Bulletproof Cupid, and Kinberg Genre\n",
    " - Bulletproof Cupid, The Donners' Company, and MCL Films S.A\n",
    " - B.Sting Entertainment, Illumination Pictures, and Aztec Musique"
   ]
  },
  {
   "cell_type": "code",
   "execution_count": 101,
   "id": "92d65440",
   "metadata": {},
   "outputs": [
    {
     "data": {
      "text/html": [
       "<span style=\"None\">Running query in &#x27;sqlite:///TMDB.db&#x27;</span>"
      ],
      "text/plain": [
       "Running query in 'sqlite:///TMDB.db'"
      ]
     },
     "metadata": {},
     "output_type": "display_data"
    },
    {
     "data": {
      "text/html": [
       "<table>\n",
       "    <thead>\n",
       "        <tr>\n",
       "            <th>production_company_name</th>\n",
       "            <th>avg_popularity</th>\n",
       "        </tr>\n",
       "    </thead>\n",
       "    <tbody>\n",
       "        <tr>\n",
       "            <td>The Donners' Company</td>\n",
       "            <td>514.569956</td>\n",
       "        </tr>\n",
       "        <tr>\n",
       "            <td>Bulletproof Cupid</td>\n",
       "            <td>481.098624</td>\n",
       "        </tr>\n",
       "        <tr>\n",
       "            <td>Kinberg Genre</td>\n",
       "            <td>326.92099900000005</td>\n",
       "        </tr>\n",
       "    </tbody>\n",
       "</table>"
      ],
      "text/plain": [
       "+-------------------------+--------------------+\n",
       "| production_company_name |   avg_popularity   |\n",
       "+-------------------------+--------------------+\n",
       "|   The Donners' Company  |     514.569956     |\n",
       "|    Bulletproof Cupid    |     481.098624     |\n",
       "|      Kinberg Genre      | 326.92099900000005 |\n",
       "+-------------------------+--------------------+"
      ]
     },
     "execution_count": 101,
     "metadata": {},
     "output_type": "execute_result"
    }
   ],
   "source": [
    "%%sql\n",
    "SELECT\n",
    "    pc.production_company_name,\n",
    "    AVG(m.popularity) AS avg_popularity\n",
    "FROM\n",
    "    movies AS m\n",
    "JOIN\n",
    "    productioncompanymap AS pcm\n",
    "ON\n",
    "    m.movie_id = pcm.movie_id\n",
    "JOIN\n",
    "    productioncompanies AS pc\n",
    "ON\n",
    "    pcm.production_company_id = pc.production_company_id\n",
    "GROUP BY\n",
    "    pc.production_company_name\n",
    "ORDER BY\n",
    "    avg_popularity DESC\n",
    "LIMIT 3"
   ]
  },
  {
   "cell_type": "markdown",
   "id": "d892dcac",
   "metadata": {},
   "source": [
    "### Question 10\n",
    "\n",
    "How many female actors (i.e. gender = 1) have a name that starts with the letter \"N\"?\n",
    "\n",
    "\n",
    "**Options:**\n",
    "\n",
    " - 0\n",
    " - 355\n",
    " - 7335\n",
    " - 1949"
   ]
  },
  {
   "cell_type": "code",
   "execution_count": 95,
   "id": "4bca2942",
   "metadata": {},
   "outputs": [
    {
     "data": {
      "text/html": [
       "<span style=\"None\">Running query in &#x27;sqlite:///TMDB.db&#x27;</span>"
      ],
      "text/plain": [
       "Running query in 'sqlite:///TMDB.db'"
      ]
     },
     "metadata": {},
     "output_type": "display_data"
    },
    {
     "data": {
      "text/html": [
       "<table>\n",
       "    <thead>\n",
       "        <tr>\n",
       "            <th>COUNT(actor_name)</th>\n",
       "        </tr>\n",
       "    </thead>\n",
       "    <tbody>\n",
       "        <tr>\n",
       "            <td>355</td>\n",
       "        </tr>\n",
       "    </tbody>\n",
       "</table>"
      ],
      "text/plain": [
       "+-------------------+\n",
       "| COUNT(actor_name) |\n",
       "+-------------------+\n",
       "|        355        |\n",
       "+-------------------+"
      ]
     },
     "execution_count": 95,
     "metadata": {},
     "output_type": "execute_result"
    }
   ],
   "source": [
    "%%sql\n",
    "SELECT\n",
    "    COUNT(actor_name)\n",
    "FROM\n",
    "    actors\n",
    "WHERE\n",
    "    gender = 1 AND actor_name LIKE \"N%\""
   ]
  },
  {
   "cell_type": "markdown",
   "id": "7ea65b50",
   "metadata": {},
   "source": [
    "### Question 11\n",
    "\n",
    "Which genre has, on average, the lowest movie popularity score? \n",
    "\n",
    "\n",
    "**Options:**\n",
    "\n",
    " - Science Fiction\n",
    " - Animation\n",
    " - Documentary\n",
    " - Foreign"
   ]
  },
  {
   "cell_type": "code",
   "execution_count": 100,
   "id": "e3a55c56",
   "metadata": {},
   "outputs": [
    {
     "data": {
      "text/html": [
       "<span style=\"None\">Running query in &#x27;sqlite:///TMDB.db&#x27;</span>"
      ],
      "text/plain": [
       "Running query in 'sqlite:///TMDB.db'"
      ]
     },
     "metadata": {},
     "output_type": "display_data"
    },
    {
     "data": {
      "text/html": [
       "<table>\n",
       "    <thead>\n",
       "        <tr>\n",
       "            <th>genre_name</th>\n",
       "            <th>Avg_popularity</th>\n",
       "        </tr>\n",
       "    </thead>\n",
       "    <tbody>\n",
       "        <tr>\n",
       "            <td>Foreign</td>\n",
       "            <td>0.686786794117647</td>\n",
       "        </tr>\n",
       "    </tbody>\n",
       "</table>"
      ],
      "text/plain": [
       "+------------+-------------------+\n",
       "| genre_name |   Avg_popularity  |\n",
       "+------------+-------------------+\n",
       "|  Foreign   | 0.686786794117647 |\n",
       "+------------+-------------------+"
      ]
     },
     "execution_count": 100,
     "metadata": {},
     "output_type": "execute_result"
    }
   ],
   "source": [
    "%%sql\n",
    "SELECT\n",
    "    g.genre_name,\n",
    "    AVG(m.popularity) AS Avg_popularity\n",
    "FROM\n",
    "    movies AS m\n",
    "JOIN\n",
    "    genremap AS gm\n",
    "ON\n",
    "    m.movie_id = gm.movie_id\n",
    "JOIN\n",
    "    genres AS g\n",
    "ON\n",
    "    gm.genre_id = g.genre_id\n",
    "GROUP BY\n",
    "    g.genre_name\n",
    "ORDER BY\n",
    "    Avg_popularity ASC\n",
    "LIMIT 1"
   ]
  },
  {
   "cell_type": "markdown",
   "id": "3769de93",
   "metadata": {},
   "source": [
    "### Question 12\n",
    "\n",
    "Which award category has the highest number of actor nominations (actors can be male or female)? (Hint: `Oscars.name` contains both actors' names and film names.)\n",
    "\n",
    "**Options:**\n",
    "\n",
    "- Special Achievement Award\n",
    "- Actor in a Supporting Role\n",
    "- Actress in a Supporting Role\n",
    "- Best Picture\n",
    "\n"
   ]
  },
  {
   "cell_type": "code",
   "execution_count": 125,
   "id": "e3943f72",
   "metadata": {},
   "outputs": [
    {
     "data": {
      "text/html": [
       "<span style=\"None\">Running query in &#x27;sqlite:///TMDB.db&#x27;</span>"
      ],
      "text/plain": [
       "Running query in 'sqlite:///TMDB.db'"
      ]
     },
     "metadata": {},
     "output_type": "display_data"
    },
    {
     "data": {
      "text/html": [
       "<table>\n",
       "    <thead>\n",
       "        <tr>\n",
       "            <th>award</th>\n",
       "            <th>COUNT(name)</th>\n",
       "        </tr>\n",
       "    </thead>\n",
       "    <tbody>\n",
       "        <tr>\n",
       "            <td>Directing</td>\n",
       "            <td>341</td>\n",
       "        </tr>\n",
       "        <tr>\n",
       "            <td>Film Editing</td>\n",
       "            <td>327</td>\n",
       "        </tr>\n",
       "        <tr>\n",
       "            <td>Actor in a Supporting Role</td>\n",
       "            <td>320</td>\n",
       "        </tr>\n",
       "        <tr>\n",
       "            <td>Actress in a Supporting Role</td>\n",
       "            <td>319</td>\n",
       "        </tr>\n",
       "        <tr>\n",
       "            <td>Documentary (Short Subject)</td>\n",
       "            <td>274</td>\n",
       "        </tr>\n",
       "        <tr>\n",
       "            <td>Art Direction</td>\n",
       "            <td>248</td>\n",
       "        </tr>\n",
       "        <tr>\n",
       "            <td>Best Picture</td>\n",
       "            <td>243</td>\n",
       "        </tr>\n",
       "        <tr>\n",
       "            <td>Documentary (Feature)</td>\n",
       "            <td>242</td>\n",
       "        </tr>\n",
       "        <tr>\n",
       "            <td>Foreign Language Film</td>\n",
       "            <td>240</td>\n",
       "        </tr>\n",
       "        <tr>\n",
       "            <td>Cinematography</td>\n",
       "            <td>237</td>\n",
       "        </tr>\n",
       "        <tr>\n",
       "            <td>Costume Design</td>\n",
       "            <td>204</td>\n",
       "        </tr>\n",
       "        <tr>\n",
       "            <td>Music (Original Score)</td>\n",
       "            <td>189</td>\n",
       "        </tr>\n",
       "        <tr>\n",
       "            <td>Actress</td>\n",
       "            <td>187</td>\n",
       "        </tr>\n",
       "        <tr>\n",
       "            <td>Actor</td>\n",
       "            <td>183</td>\n",
       "        </tr>\n",
       "        <tr>\n",
       "            <td>Sound</td>\n",
       "            <td>180</td>\n",
       "        </tr>\n",
       "        <tr>\n",
       "            <td>Music (Song)</td>\n",
       "            <td>179</td>\n",
       "        </tr>\n",
       "        <tr>\n",
       "            <td>Sound Recording</td>\n",
       "            <td>167</td>\n",
       "        </tr>\n",
       "        <tr>\n",
       "            <td>Actress in a Leading Role</td>\n",
       "            <td>160</td>\n",
       "        </tr>\n",
       "        <tr>\n",
       "            <td>Actor in a Leading Role</td>\n",
       "            <td>160</td>\n",
       "        </tr>\n",
       "        <tr>\n",
       "            <td>Music (Original Song)</td>\n",
       "            <td>154</td>\n",
       "        </tr>\n",
       "        <tr>\n",
       "            <td>Short Film (Live Action)</td>\n",
       "            <td>144</td>\n",
       "        </tr>\n",
       "        <tr>\n",
       "            <td>Cinematography (Black and White)</td>\n",
       "            <td>134</td>\n",
       "        </tr>\n",
       "        <tr>\n",
       "            <td>Short Film (Animated)</td>\n",
       "            <td>133</td>\n",
       "        </tr>\n",
       "        <tr>\n",
       "            <td>Short Subject (Cartoon)</td>\n",
       "            <td>130</td>\n",
       "        </tr>\n",
       "        <tr>\n",
       "            <td>Music (Music Score of a Dramatic or Comedy Picture)</td>\n",
       "            <td>129</td>\n",
       "        </tr>\n",
       "        <tr>\n",
       "            <td>Art Direction (Black and White)</td>\n",
       "            <td>113</td>\n",
       "        </tr>\n",
       "        <tr>\n",
       "            <td>Cinematography (Color)</td>\n",
       "            <td>108</td>\n",
       "        </tr>\n",
       "        <tr>\n",
       "            <td>Music (Scoring of a Musical Picture)</td>\n",
       "            <td>107</td>\n",
       "        </tr>\n",
       "        <tr>\n",
       "            <td>Writing (Screenplay Written Directly for the Screen)</td>\n",
       "            <td>96</td>\n",
       "        </tr>\n",
       "        <tr>\n",
       "            <td>Writing (Original Screenplay)</td>\n",
       "            <td>96</td>\n",
       "        </tr>\n",
       "        <tr>\n",
       "            <td>Outstanding Production</td>\n",
       "            <td>91</td>\n",
       "        </tr>\n",
       "        <tr>\n",
       "            <td>Art Direction (Color)</td>\n",
       "            <td>87</td>\n",
       "        </tr>\n",
       "        <tr>\n",
       "            <td>Writing (Screenplay)</td>\n",
       "            <td>83</td>\n",
       "        </tr>\n",
       "        <tr>\n",
       "            <td>Visual Effects</td>\n",
       "            <td>80</td>\n",
       "        </tr>\n",
       "        <tr>\n",
       "            <td>Writing (Screenplay, Based on Material from Another Medium)</td>\n",
       "            <td>76</td>\n",
       "        </tr>\n",
       "        <tr>\n",
       "            <td>Best Motion Picture</td>\n",
       "            <td>72</td>\n",
       "        </tr>\n",
       "        <tr>\n",
       "            <td>Short Subject (One Reel)</td>\n",
       "            <td>69</td>\n",
       "        </tr>\n",
       "        <tr>\n",
       "            <td>Special Effects</td>\n",
       "            <td>68</td>\n",
       "        </tr>\n",
       "        <tr>\n",
       "            <td>Short Subject (Two Reel)</td>\n",
       "            <td>60</td>\n",
       "        </tr>\n",
       "        <tr>\n",
       "            <td>Costume Design (Color)</td>\n",
       "            <td>60</td>\n",
       "        </tr>\n",
       "        <tr>\n",
       "            <td>Costume Design (Black and White)</td>\n",
       "            <td>60</td>\n",
       "        </tr>\n",
       "        <tr>\n",
       "            <td>Makeup</td>\n",
       "            <td>57</td>\n",
       "        </tr>\n",
       "        <tr>\n",
       "            <td>Writing (Adapted Screenplay)</td>\n",
       "            <td>56</td>\n",
       "        </tr>\n",
       "        <tr>\n",
       "            <td>Music (Scoring)</td>\n",
       "            <td>56</td>\n",
       "        </tr>\n",
       "        <tr>\n",
       "            <td>Writing (Screenplay Based on Material from Another Medium)</td>\n",
       "            <td>52</td>\n",
       "        </tr>\n",
       "        <tr>\n",
       "            <td>Sound Mixing</td>\n",
       "            <td>52</td>\n",
       "        </tr>\n",
       "        <tr>\n",
       "            <td>Short Subject (Live Action)</td>\n",
       "            <td>51</td>\n",
       "        </tr>\n",
       "        <tr>\n",
       "            <td>Sound Editing</td>\n",
       "            <td>49</td>\n",
       "        </tr>\n",
       "        <tr>\n",
       "            <td>Writing (Story and Screenplay, Written Directly for the Screen)</td>\n",
       "            <td>48</td>\n",
       "        </tr>\n",
       "        <tr>\n",
       "            <td>Writing (Screenplay Based on Material Previously Produced or Published)</td>\n",
       "            <td>44</td>\n",
       "        </tr>\n",
       "        <tr>\n",
       "            <td>Animated Feature Film</td>\n",
       "            <td>44</td>\n",
       "        </tr>\n",
       "        <tr>\n",
       "            <td>Writing (Original Story)</td>\n",
       "            <td>40</td>\n",
       "        </tr>\n",
       "        <tr>\n",
       "            <td>Writing (Motion Picture Story)</td>\n",
       "            <td>40</td>\n",
       "        </tr>\n",
       "        <tr>\n",
       "            <td>Music (Original Dramatic Score)</td>\n",
       "            <td>33</td>\n",
       "        </tr>\n",
       "        <tr>\n",
       "            <td>Sound Effects Editing</td>\n",
       "            <td>31</td>\n",
       "        </tr>\n",
       "        <tr>\n",
       "            <td>Writing (Story and Screenplay)</td>\n",
       "            <td>28</td>\n",
       "        </tr>\n",
       "        <tr>\n",
       "            <td>Outstanding Motion Picture</td>\n",
       "            <td>27</td>\n",
       "        </tr>\n",
       "        <tr>\n",
       "            <td>Music (Scoring of Music, Adaptation or Treatment)</td>\n",
       "            <td>24</td>\n",
       "        </tr>\n",
       "        <tr>\n",
       "            <td>Assistant Director</td>\n",
       "            <td>24</td>\n",
       "        </tr>\n",
       "        <tr>\n",
       "            <td>Documentary</td>\n",
       "            <td>21</td>\n",
       "        </tr>\n",
       "        <tr>\n",
       "            <td>Writing (Original Motion Picture Story)</td>\n",
       "            <td>20</td>\n",
       "        </tr>\n",
       "        <tr>\n",
       "            <td>Music (Song, Original for the Picture)</td>\n",
       "            <td>20</td>\n",
       "        </tr>\n",
       "        <tr>\n",
       "            <td>Music (Music Score of a Dramatic Picture)</td>\n",
       "            <td>19</td>\n",
       "        </tr>\n",
       "        <tr>\n",
       "            <td>Dance Direction</td>\n",
       "            <td>19</td>\n",
       "        </tr>\n",
       "        <tr>\n",
       "            <td>Writing (Story and Screenplay, Based on Factual Material or Material Not Previously Published or Produced)</td>\n",
       "            <td>16</td>\n",
       "        </tr>\n",
       "        <tr>\n",
       "            <td>Production Design</td>\n",
       "            <td>16</td>\n",
       "        </tr>\n",
       "        <tr>\n",
       "            <td>Music (Original Musical or Comedy Score)</td>\n",
       "            <td>16</td>\n",
       "        </tr>\n",
       "        <tr>\n",
       "            <td>Music (Music Score, Substantially Original)</td>\n",
       "            <td>16</td>\n",
       "        </tr>\n",
       "        <tr>\n",
       "            <td>Writing (Adaptation)</td>\n",
       "            <td>12</td>\n",
       "        </tr>\n",
       "        <tr>\n",
       "            <td>Writing</td>\n",
       "            <td>9</td>\n",
       "        </tr>\n",
       "        <tr>\n",
       "            <td>Short Subject (Comedy)</td>\n",
       "            <td>9</td>\n",
       "        </tr>\n",
       "        <tr>\n",
       "            <td>Writing (Screenplay Written Directly for the Screen, Based on Factual Material or on Story Material Not Previously Published or Produced)</td>\n",
       "            <td>8</td>\n",
       "        </tr>\n",
       "        <tr>\n",
       "            <td>Writing (Screenplay Adapted from Other Material)</td>\n",
       "            <td>8</td>\n",
       "        </tr>\n",
       "        <tr>\n",
       "            <td>Special Visual Effects</td>\n",
       "            <td>8</td>\n",
       "        </tr>\n",
       "        <tr>\n",
       "            <td>Short Subject (Novelty)</td>\n",
       "            <td>8</td>\n",
       "        </tr>\n",
       "        <tr>\n",
       "            <td>Music (Score of a Musical Picture, Original or Adaptation)</td>\n",
       "            <td>8</td>\n",
       "        </tr>\n",
       "        <tr>\n",
       "            <td>Music (Original Score, for a Motion Picture [Not a Musical])</td>\n",
       "            <td>8</td>\n",
       "        </tr>\n",
       "        <tr>\n",
       "            <td>Music (Original Music Score)</td>\n",
       "            <td>8</td>\n",
       "        </tr>\n",
       "        <tr>\n",
       "            <td>Makeup and Hairstyling</td>\n",
       "            <td>8</td>\n",
       "        </tr>\n",
       "        <tr>\n",
       "            <td>Short Subject (Animated)</td>\n",
       "            <td>6</td>\n",
       "        </tr>\n",
       "        <tr>\n",
       "            <td>Outstanding Picture</td>\n",
       "            <td>6</td>\n",
       "        </tr>\n",
       "        <tr>\n",
       "            <td>Music (Scoring: Original Song Score and Adaptation -Or- Scoring: Adaptation)</td>\n",
       "            <td>6</td>\n",
       "        </tr>\n",
       "        <tr>\n",
       "            <td>Music (Scoring: Adaptation and Original Song Score)</td>\n",
       "            <td>6</td>\n",
       "        </tr>\n",
       "        <tr>\n",
       "            <td>Music (Original Song Score)</td>\n",
       "            <td>6</td>\n",
       "        </tr>\n",
       "        <tr>\n",
       "            <td>Irving G. Thalberg Memorial Award</td>\n",
       "            <td>6</td>\n",
       "        </tr>\n",
       "        <tr>\n",
       "            <td>Sound Effects</td>\n",
       "            <td>5</td>\n",
       "        </tr>\n",
       "        <tr>\n",
       "            <td>Writing (Story and Screenplay, Based on Material Not Previously Published or Produced)</td>\n",
       "            <td>4</td>\n",
       "        </tr>\n",
       "        <tr>\n",
       "            <td>Writing (Screenplay, Original)</td>\n",
       "            <td>4</td>\n",
       "        </tr>\n",
       "        <tr>\n",
       "            <td>Writing (Screenplay, Adapted)</td>\n",
       "            <td>4</td>\n",
       "        </tr>\n",
       "        <tr>\n",
       "            <td>Short Subject (Color)</td>\n",
       "            <td>4</td>\n",
       "        </tr>\n",
       "        <tr>\n",
       "            <td>Music (Original Song Score and Its Adaptation or Adaptation Score)</td>\n",
       "            <td>4</td>\n",
       "        </tr>\n",
       "        <tr>\n",
       "            <td>Music (Original Song Score and Its Adaptation -Or- Adaptation Score)</td>\n",
       "            <td>4</td>\n",
       "        </tr>\n",
       "        <tr>\n",
       "            <td>Writing (Title Writing)</td>\n",
       "            <td>2</td>\n",
       "        </tr>\n",
       "        <tr>\n",
       "            <td>Unique and Artistic Picture</td>\n",
       "            <td>2</td>\n",
       "        </tr>\n",
       "        <tr>\n",
       "            <td>Short Film (Dramatic Live Action)</td>\n",
       "            <td>2</td>\n",
       "        </tr>\n",
       "        <tr>\n",
       "            <td>Music (Original Song Score or Adaptation Score)</td>\n",
       "            <td>2</td>\n",
       "        </tr>\n",
       "        <tr>\n",
       "            <td>Music (Adaptation Score)</td>\n",
       "            <td>2</td>\n",
       "        </tr>\n",
       "        <tr>\n",
       "            <td>Engineering Effects</td>\n",
       "            <td>2</td>\n",
       "        </tr>\n",
       "        <tr>\n",
       "            <td>Directing (Dramatic Picture)</td>\n",
       "            <td>2</td>\n",
       "        </tr>\n",
       "        <tr>\n",
       "            <td>Directing (Comedy Picture)</td>\n",
       "            <td>1</td>\n",
       "        </tr>\n",
       "    </tbody>\n",
       "</table>"
      ],
      "text/plain": [
       "+-------------------------------------------------------------------------------------------------------------------------------------------+-------------+\n",
       "|                                                                   award                                                                   | COUNT(name) |\n",
       "+-------------------------------------------------------------------------------------------------------------------------------------------+-------------+\n",
       "|                                                                 Directing                                                                 |     341     |\n",
       "|                                                                Film Editing                                                               |     327     |\n",
       "|                                                         Actor in a Supporting Role                                                        |     320     |\n",
       "|                                                        Actress in a Supporting Role                                                       |     319     |\n",
       "|                                                        Documentary (Short Subject)                                                        |     274     |\n",
       "|                                                               Art Direction                                                               |     248     |\n",
       "|                                                                Best Picture                                                               |     243     |\n",
       "|                                                           Documentary (Feature)                                                           |     242     |\n",
       "|                                                           Foreign Language Film                                                           |     240     |\n",
       "|                                                               Cinematography                                                              |     237     |\n",
       "|                                                               Costume Design                                                              |     204     |\n",
       "|                                                           Music (Original Score)                                                          |     189     |\n",
       "|                                                                  Actress                                                                  |     187     |\n",
       "|                                                                   Actor                                                                   |     183     |\n",
       "|                                                                   Sound                                                                   |     180     |\n",
       "|                                                                Music (Song)                                                               |     179     |\n",
       "|                                                              Sound Recording                                                              |     167     |\n",
       "|                                                         Actress in a Leading Role                                                         |     160     |\n",
       "|                                                          Actor in a Leading Role                                                          |     160     |\n",
       "|                                                           Music (Original Song)                                                           |     154     |\n",
       "|                                                          Short Film (Live Action)                                                         |     144     |\n",
       "|                                                      Cinematography (Black and White)                                                     |     134     |\n",
       "|                                                           Short Film (Animated)                                                           |     133     |\n",
       "|                                                          Short Subject (Cartoon)                                                          |     130     |\n",
       "|                                            Music (Music Score of a Dramatic or Comedy Picture)                                            |     129     |\n",
       "|                                                      Art Direction (Black and White)                                                      |     113     |\n",
       "|                                                           Cinematography (Color)                                                          |     108     |\n",
       "|                                                    Music (Scoring of a Musical Picture)                                                   |     107     |\n",
       "|                                            Writing (Screenplay Written Directly for the Screen)                                           |      96     |\n",
       "|                                                       Writing (Original Screenplay)                                                       |      96     |\n",
       "|                                                           Outstanding Production                                                          |      91     |\n",
       "|                                                           Art Direction (Color)                                                           |      87     |\n",
       "|                                                            Writing (Screenplay)                                                           |      83     |\n",
       "|                                                               Visual Effects                                                              |      80     |\n",
       "|                                        Writing (Screenplay, Based on Material from Another Medium)                                        |      76     |\n",
       "|                                                            Best Motion Picture                                                            |      72     |\n",
       "|                                                          Short Subject (One Reel)                                                         |      69     |\n",
       "|                                                              Special Effects                                                              |      68     |\n",
       "|                                                          Short Subject (Two Reel)                                                         |      60     |\n",
       "|                                                           Costume Design (Color)                                                          |      60     |\n",
       "|                                                      Costume Design (Black and White)                                                     |      60     |\n",
       "|                                                                   Makeup                                                                  |      57     |\n",
       "|                                                        Writing (Adapted Screenplay)                                                       |      56     |\n",
       "|                                                              Music (Scoring)                                                              |      56     |\n",
       "|                                         Writing (Screenplay Based on Material from Another Medium)                                        |      52     |\n",
       "|                                                                Sound Mixing                                                               |      52     |\n",
       "|                                                        Short Subject (Live Action)                                                        |      51     |\n",
       "|                                                               Sound Editing                                                               |      49     |\n",
       "|                                      Writing (Story and Screenplay, Written Directly for the Screen)                                      |      48     |\n",
       "|                                  Writing (Screenplay Based on Material Previously Produced or Published)                                  |      44     |\n",
       "|                                                           Animated Feature Film                                                           |      44     |\n",
       "|                                                          Writing (Original Story)                                                         |      40     |\n",
       "|                                                       Writing (Motion Picture Story)                                                      |      40     |\n",
       "|                                                      Music (Original Dramatic Score)                                                      |      33     |\n",
       "|                                                           Sound Effects Editing                                                           |      31     |\n",
       "|                                                       Writing (Story and Screenplay)                                                      |      28     |\n",
       "|                                                         Outstanding Motion Picture                                                        |      27     |\n",
       "|                                             Music (Scoring of Music, Adaptation or Treatment)                                             |      24     |\n",
       "|                                                             Assistant Director                                                            |      24     |\n",
       "|                                                                Documentary                                                                |      21     |\n",
       "|                                                  Writing (Original Motion Picture Story)                                                  |      20     |\n",
       "|                                                   Music (Song, Original for the Picture)                                                  |      20     |\n",
       "|                                                 Music (Music Score of a Dramatic Picture)                                                 |      19     |\n",
       "|                                                              Dance Direction                                                              |      19     |\n",
       "|                 Writing (Story and Screenplay, Based on Factual Material or Material Not Previously Published or Produced)                |      16     |\n",
       "|                                                             Production Design                                                             |      16     |\n",
       "|                                                  Music (Original Musical or Comedy Score)                                                 |      16     |\n",
       "|                                                Music (Music Score, Substantially Original)                                                |      16     |\n",
       "|                                                            Writing (Adaptation)                                                           |      12     |\n",
       "|                                                                  Writing                                                                  |      9      |\n",
       "|                                                           Short Subject (Comedy)                                                          |      9      |\n",
       "| Writing (Screenplay Written Directly for the Screen, Based on Factual Material or on Story Material Not Previously Published or Produced) |      8      |\n",
       "|                                              Writing (Screenplay Adapted from Other Material)                                             |      8      |\n",
       "|                                                           Special Visual Effects                                                          |      8      |\n",
       "|                                                          Short Subject (Novelty)                                                          |      8      |\n",
       "|                                         Music (Score of a Musical Picture, Original or Adaptation)                                        |      8      |\n",
       "|                                        Music (Original Score, for a Motion Picture [Not a Musical])                                       |      8      |\n",
       "|                                                        Music (Original Music Score)                                                       |      8      |\n",
       "|                                                           Makeup and Hairstyling                                                          |      8      |\n",
       "|                                                          Short Subject (Animated)                                                         |      6      |\n",
       "|                                                            Outstanding Picture                                                            |      6      |\n",
       "|                                Music (Scoring: Original Song Score and Adaptation -Or- Scoring: Adaptation)                               |      6      |\n",
       "|                                            Music (Scoring: Adaptation and Original Song Score)                                            |      6      |\n",
       "|                                                        Music (Original Song Score)                                                        |      6      |\n",
       "|                                                     Irving G. Thalberg Memorial Award                                                     |      6      |\n",
       "|                                                               Sound Effects                                                               |      5      |\n",
       "|                           Writing (Story and Screenplay, Based on Material Not Previously Published or Produced)                          |      4      |\n",
       "|                                                       Writing (Screenplay, Original)                                                      |      4      |\n",
       "|                                                       Writing (Screenplay, Adapted)                                                       |      4      |\n",
       "|                                                           Short Subject (Color)                                                           |      4      |\n",
       "|                                     Music (Original Song Score and Its Adaptation or Adaptation Score)                                    |      4      |\n",
       "|                                    Music (Original Song Score and Its Adaptation -Or- Adaptation Score)                                   |      4      |\n",
       "|                                                          Writing (Title Writing)                                                          |      2      |\n",
       "|                                                        Unique and Artistic Picture                                                        |      2      |\n",
       "|                                                     Short Film (Dramatic Live Action)                                                     |      2      |\n",
       "|                                              Music (Original Song Score or Adaptation Score)                                              |      2      |\n",
       "|                                                          Music (Adaptation Score)                                                         |      2      |\n",
       "|                                                            Engineering Effects                                                            |      2      |\n",
       "|                                                        Directing (Dramatic Picture)                                                       |      2      |\n",
       "|                                                         Directing (Comedy Picture)                                                        |      1      |\n",
       "+-------------------------------------------------------------------------------------------------------------------------------------------+-------------+"
      ]
     },
     "execution_count": 125,
     "metadata": {},
     "output_type": "execute_result"
    }
   ],
   "source": [
    "%%sql\n",
    "SELECT\n",
    "    award,\n",
    "    COUNT(name)\n",
    "FROM\n",
    "    Oscars\n",
    "WHERE\n",
    "    winner IS NULL\n",
    "GROUP BY 1\n",
    "ORDER BY 2 DESC"
   ]
  },
  {
   "cell_type": "markdown",
   "id": "c80a7c0c",
   "metadata": {},
   "source": [
    "### Question 13\n",
    "\n",
    "For all of the entries in the Oscars table before 1934, the year is stored differently than in all the subsequent years. For example, the year would be saved as “1932/1933” instead of just “1933” (the second indicated year).  Which of the following options would be the appropriate code to update this column to have the format of the year be consistent throughout the entire table (second indicated year only shown)?\n",
    "\n",
    "\n",
    "**Options:**\n",
    "\n",
    "- `UPDATE Oscars SET year = RIGHT(year, -4)`\n",
    "- `UPDATE Oscars SET year = SELECT substr(year, -4)`\n",
    "- `UPDATE Oscars SET year = substr(year, -4)`\n",
    "- `UPDATE Oscars year =  substr(year, 4)`"
   ]
  },
  {
   "cell_type": "code",
   "execution_count": 139,
   "id": "fa465d45",
   "metadata": {},
   "outputs": [
    {
     "data": {
      "text/html": [
       "<span style=\"None\">Running query in &#x27;sqlite:///TMDB.db&#x27;</span>"
      ],
      "text/plain": [
       "Running query in 'sqlite:///TMDB.db'"
      ]
     },
     "metadata": {},
     "output_type": "display_data"
    },
    {
     "data": {
      "text/html": [
       "<span style=\"color: green\">9964 rows affected.</span>"
      ],
      "text/plain": [
       "9964 rows affected."
      ]
     },
     "metadata": {},
     "output_type": "display_data"
    },
    {
     "data": {
      "text/html": [
       "<table>\n",
       "    <thead>\n",
       "        <tr>\n",
       "        </tr>\n",
       "    </thead>\n",
       "    <tbody>\n",
       "    </tbody>\n",
       "</table>"
      ],
      "text/plain": [
       "++\n",
       "||\n",
       "++\n",
       "++"
      ]
     },
     "execution_count": 139,
     "metadata": {},
     "output_type": "execute_result"
    }
   ],
   "source": [
    "%%sql\n",
    "UPDATE Oscars SET year = substr(year, -4)"
   ]
  },
  {
   "cell_type": "markdown",
   "id": "a7d73885",
   "metadata": {},
   "source": [
    "### Question 14\n",
    "\n",
    "DStv will be having a special week dedicated to the actor Alan Rickman. Which of the following queries would create a new _view_ that shows the titles, release dates, taglines, and overviews of all movies that Alan Rickman has played in?\n",
    "\n",
    "\n",
    "\n",
    "**Options:**\n",
    "\n",
    "- SELECT title, release_date, tagline, overview \n",
    "FROM Movies LEFT JOIN Casts ON Casts.movie_id = Movies.movie_id Left JOIN Actors ON Casts.actor_id = Actors.actor_id \n",
    "WHERE Actors.actor_name = 'Alan Rickman'\n",
    "AS VIEW Alan_Rickman_Movies\n",
    "\n",
    "- CREATE VIEW Alan_Rickman_Movies AS  \n",
    "SELECT title, release_date, tagline, overview FROM Movies  \n",
    "LEFT JOIN Casts ON Casts.movie_id = Movies.movie_id Left JOIN Actors\n",
    "ON Casts.actor_id = Actors.actor_id\n",
    "WHERE Actors.actor_name = 'Alan Rickman' \n",
    "\n",
    "\n",
    "- CREATE NEW VIEW  Name  = Alan_Rickman_Movies AS SELECT title, release_date, tagline, overview FROM Movies LEFT JOIN Casts ON Casts.movie_id = Movies.movie_id Left JOIN Actors ON Casts.actor_id = Actors.actor_id WHERE Actors.actor_name = 'Alan Rickman'\n",
    "\n",
    "- VIEW Alan_Rickman_Movies AS SELECT title, release_date, tagline, overview FROM Movies LEFT JOIN Casts ON Casts.movie_id = Movies.movie_id Left JOIN Actors ON Casts.actor_id = Actors.actor_id WHERE Actors.actor_name = 'Alan Rickman'"
   ]
  },
  {
   "cell_type": "code",
   "execution_count": 62,
   "id": "f9b82bc6",
   "metadata": {},
   "outputs": [
    {
     "data": {
      "text/html": [
       "<span style=\"None\">Running query in &#x27;sqlite:///TMDB.db&#x27;</span>"
      ],
      "text/plain": [
       "Running query in 'sqlite:///TMDB.db'"
      ]
     },
     "metadata": {},
     "output_type": "display_data"
    },
    {
     "data": {
      "text/html": [
       "<table>\n",
       "    <thead>\n",
       "        <tr>\n",
       "            <th>title</th>\n",
       "            <th>release_date</th>\n",
       "            <th>tagline</th>\n",
       "            <th>overview</th>\n",
       "        </tr>\n",
       "    </thead>\n",
       "    <tbody>\n",
       "        <tr>\n",
       "            <td>Love Actually</td>\n",
       "            <td>2003-09-07 00:00:00.000000</td>\n",
       "            <td>The ultimate romantic comedy.</td>\n",
       "            <td>Follows seemingly unrelated people as their lives begin to intertwine while they fall in û and out û of love. Affections languish and develop as Christmas draws near.</td>\n",
       "        </tr>\n",
       "        <tr>\n",
       "            <td>Die Hard</td>\n",
       "            <td>1988-07-15 00:00:00.000000</td>\n",
       "            <td>40 Stories. Twelve Terrorists. One Cop.</td>\n",
       "            <td>NYPD cop, John McClane's plan to reconcile with his estranged wife is thrown for a serious loop when minutes after he arrives at her office, the entire building is overtaken by a group of terrorists. With little help from the LAPD, wisecracking McClane sets out to single-handedly rescue the hostages and bring the bad guys down.</td>\n",
       "        </tr>\n",
       "        <tr>\n",
       "            <td>Harry Potter and the Philosopher's Stone</td>\n",
       "            <td>2001-11-16 00:00:00.000000</td>\n",
       "            <td>Let the Magic Begin.</td>\n",
       "            <td>Harry Potter has lived under the stairs at his aunt and uncle's house his whole life. But on his 11th birthday, he learns he's a powerful wizard -- with a place waiting for him at the Hogwarts School of Witchcraft and Wizardry. As he learns to harness his newfound powers with the help of the school's kindly headmaster, Harry uncovers the truth about his parents' deaths -- and about the villain who's to blame.</td>\n",
       "        </tr>\n",
       "        <tr>\n",
       "            <td>Harry Potter and the Chamber of Secrets</td>\n",
       "            <td>2002-11-13 00:00:00.000000</td>\n",
       "            <td>Hogwarts is back in session.</td>\n",
       "            <td>Ignoring threats to his life, Harry returns to Hogwarts to investigate û aided by Ron and Hermione û a mysterious series of attacks.</td>\n",
       "        </tr>\n",
       "        <tr>\n",
       "            <td>Harry Potter and the Prisoner of Azkaban</td>\n",
       "            <td>2004-05-31 00:00:00.000000</td>\n",
       "            <td>Something wicked this way comes.</td>\n",
       "            <td>Harry, Ron and Hermione return to Hogwarts for another magic-filled year. Harry comes face to face with danger yet again, this time in the form of escaped convict, Sirius Black û and turns to sympathetic Professor Lupin for help.</td>\n",
       "        </tr>\n",
       "        <tr>\n",
       "            <td>Harry Potter and the Goblet of Fire</td>\n",
       "            <td>2005-11-05 00:00:00.000000</td>\n",
       "            <td>Dark And Difficult Times Lie Ahead.</td>\n",
       "            <td>Harry starts his fourth year at Hogwarts, competes in the treacherous Triwizard Tournament and faces the evil Lord Voldemort. Ron and Hermione help Harry manage the pressure û but Voldemort lurks, awaiting his chance to destroy Harry and all that he stands for.</td>\n",
       "        </tr>\n",
       "        <tr>\n",
       "            <td>Harry Potter and the Order of the Phoenix</td>\n",
       "            <td>2007-06-28 00:00:00.000000</td>\n",
       "            <td>Evil Must Be Confronted.</td>\n",
       "            <td>Returning for his fifth year of study at Hogwarts, Harry is stunned to find that his warnings about the return of Lord Voldemort have been ignored. Left with no choice, Harry takes matters into his own hands, training a small group of students û dubbed 'Dumbledore's Army' û to defend themselves against the dark arts.</td>\n",
       "        </tr>\n",
       "        <tr>\n",
       "            <td>Harry Potter and the Half-Blood Prince</td>\n",
       "            <td>2009-07-07 00:00:00.000000</td>\n",
       "            <td>Dark Secrets Revealed</td>\n",
       "            <td>As Harry begins his sixth year at Hogwarts, he discovers an old book marked as 'Property of the Half-Blood Prince', and begins to learn more about Lord Voldemort's dark past.</td>\n",
       "        </tr>\n",
       "        <tr>\n",
       "            <td>Galaxy Quest</td>\n",
       "            <td>1999-12-23 00:00:00.000000</td>\n",
       "            <td>A comedy of Galactic Proportions.</td>\n",
       "            <td>The stars of a 1970s sci-fi show - now scraping a living through re-runs and sci-fi conventions - are beamed aboard an alien spacecraft. Believing the cast's heroic on-screen dramas are historical documents of real-life adventures, the band of aliens turn to the ailing celebrities for help in their quest to overcome the oppressive regime in their solar system.</td>\n",
       "        </tr>\n",
       "        <tr>\n",
       "            <td>Perfume: The Story of a Murderer</td>\n",
       "            <td>2006-09-13 00:00:00.000000</td>\n",
       "            <td>Based on the best-selling novel</td>\n",
       "            <td>Jean-Baptiste Grenouille, born in the stench of 18th century Paris, develops a superior olfactory sense, which he uses to create the world's finest perfumes. However, his work takes a dark turn as he tries to preserve scents in the search for the ultimate perfume.</td>\n",
       "        </tr>\n",
       "        <tr>\n",
       "            <td>Michael Collins</td>\n",
       "            <td>1996-10-25 00:00:00.000000</td>\n",
       "            <td>Ireland, 1916. His Dreams Inspired Hope. His Words Ignited Passion. His Courage Forged A Nation's Destiny.</td>\n",
       "            <td>Michael Collins plays a crucial role in the establishment of the Irish Free State in the 1920s, but becomes vilified by those hoping to create a completely independent Irish republic.</td>\n",
       "        </tr>\n",
       "        <tr>\n",
       "            <td>Dogma</td>\n",
       "            <td>1999-11-12 00:00:00.000000</td>\n",
       "            <td>It can be Hell getting into Heaven</td>\n",
       "            <td>The latest battle in the eternal war between Good and Evil has come to New Jersey in the late, late 20th Century. Angels, demons, apostles and prophets (of a sort) walk among the cynics and innocents of America and duke it out for the fate of humankind.</td>\n",
       "        </tr>\n",
       "        <tr>\n",
       "            <td>Sense and Sensibility</td>\n",
       "            <td>1995-12-13 00:00:00.000000</td>\n",
       "            <td>Lose your heart and come to your senses.</td>\n",
       "            <td>Rich Mr. Dashwood dies, leaving his second wife and her daughters poor by the rules of inheritance. Two daughters are the titular opposites.</td>\n",
       "        </tr>\n",
       "        <tr>\n",
       "            <td>The Hitchhiker's Guide to the Galaxy</td>\n",
       "            <td>2005-01-15 00:00:00.000000</td>\n",
       "            <td>Don't leave Earth without it.</td>\n",
       "            <td>\"Mere seconds before the Earth is to be demolished by an alien construction crew, Arthur Dent is swept off the planet by his friend Ford Prefect, a researcher penning a new edition of \"\"The Hitchhiker's Guide to the Galaxy.\"\"\"</td>\n",
       "        </tr>\n",
       "        <tr>\n",
       "            <td>Robin Hood: Prince of Thieves</td>\n",
       "            <td>1991-06-14 00:00:00.000000</td>\n",
       "            <td>For the good of all men, and the love of one woman, he fought to uphold justice by breaking the law.</td>\n",
       "            <td>When the dastardly Sheriff of Nottingham murders Robin's father, the legendary archer vows vengeance. To accomplish his mission, Robin joins forces with a band of exiled villagers (and comely Maid Marian), and together they battle to end the evil sheriff's reign of terror.</td>\n",
       "        </tr>\n",
       "        <tr>\n",
       "            <td>Quigley Down Under</td>\n",
       "            <td>1990-10-17 00:00:00.000000</td>\n",
       "            <td>There's a price on his head. A girl on his mind. And a twinkle in his eye.</td>\n",
       "            <td>American Matt Quigley answers Australian land baron Elliott Marston's ad for a sharpshooter to kill the dingoes on his property. But when Quigley finds out that Marston's real target is the aborigines, Quigley hits the road. Now, even American expatriate Crazy Cora can't keep Quigley safe in his cat-and-mouse game with the homicidal Marston.</td>\n",
       "        </tr>\n",
       "        <tr>\n",
       "            <td>Alice in Wonderland</td>\n",
       "            <td>2010-03-03 00:00:00.000000</td>\n",
       "            <td>You're invited to a very important date.</td>\n",
       "            <td>Alice, an unpretentious and individual 19-year-old, is betrothed to a dunce of an English nobleman. At her engagement party, she escapes the crowd to consider whether to go through with the marriage and falls down a hole in the garden after spotting an unusual rabbit. Arriving in a strange and surreal place called 'Underland,' she finds herself in a world that resembles the nightmares she had as a child, filled with talking animals, villainous queens and knights, and frumious bandersnatches. Alice realizes that she is there for a reason û to conquer the horrific Jabberwocky and restore the rightful queen to her throne.</td>\n",
       "        </tr>\n",
       "        <tr>\n",
       "            <td>Bottle Shock</td>\n",
       "            <td>2008-08-06 00:00:00.000000</td>\n",
       "            <td>Based on a true story of love, victory, and fermentation</td>\n",
       "            <td>Paris-based wine expert Steven Spurrier heads to California in search of cheap wine that he can use for a blind taste test in the French capital. Stumbling upon the Napa Valley, the stuck-up Englishman is shocked to discover a winery turning out top-notch chardonnay. Determined to make a name for himself, he sets about getting the booze back to Paris.</td>\n",
       "        </tr>\n",
       "        <tr>\n",
       "            <td>The Butler</td>\n",
       "            <td>2013-08-16 00:00:00.000000</td>\n",
       "            <td>One quiet voice can ignite a revolution.</td>\n",
       "            <td>A look at the life of Cecil Gaines who served eight presidents as the White House's head butler from 1952 to 1986, and had a unique front-row seat as political and racial history was made.</td>\n",
       "        </tr>\n",
       "        <tr>\n",
       "            <td>Alice Through the Looking Glass</td>\n",
       "            <td>2016-05-25 00:00:00.000000</td>\n",
       "            <td>It's time for a little madness.</td>\n",
       "            <td>\"In the sequel to Tim Burton's \"\"Alice in Wonderland\"\", Alice Kingsleigh returns to Underland and faces a new adventure in saving the Mad Hatter.\"</td>\n",
       "        </tr>\n",
       "    </tbody>\n",
       "</table>"
      ],
      "text/plain": [
       "+-------------------------------------------+----------------------------+------------------------------------------------------------------------------------------------------------+----------------------------------------------------------------------------------------------------------------------------------------------------------------------------------------------------------------------------------------------------------------------------------------------------------------------------------------------------------------------------------------------------------------------------------------------------------------------------------------------------------------------------------------------------------------------------------------------------------------------------------------------------+\n",
       "|                   title                   |        release_date        |                                                  tagline                                                   |                                                                                                                                                                                                                                                                                                                      overview                                                                                                                                                                                                                                                                                                                      |\n",
       "+-------------------------------------------+----------------------------+------------------------------------------------------------------------------------------------------------+----------------------------------------------------------------------------------------------------------------------------------------------------------------------------------------------------------------------------------------------------------------------------------------------------------------------------------------------------------------------------------------------------------------------------------------------------------------------------------------------------------------------------------------------------------------------------------------------------------------------------------------------------+\n",
       "|               Love Actually               | 2003-09-07 00:00:00.000000 |                                       The ultimate romantic comedy.                                        |                                                                                                                                                                                                                                       Follows seemingly unrelated people as their lives begin to intertwine while they fall in û and out û of love. Affections languish and develop as Christmas draws near.                                                                                                                                                                                                                                       |\n",
       "|                  Die Hard                 | 1988-07-15 00:00:00.000000 |                                  40 Stories. Twelve Terrorists. One Cop.                                   |                                                                                                                                                     NYPD cop, John McClane's plan to reconcile with his estranged wife is thrown for a serious loop when minutes after he arrives at her office, the entire building is overtaken by a group of terrorists. With little help from the LAPD, wisecracking McClane sets out to single-handedly rescue the hostages and bring the bad guys down.                                                                                                                                                      |\n",
       "|  Harry Potter and the Philosopher's Stone | 2001-11-16 00:00:00.000000 |                                            Let the Magic Begin.                                            |                                                                                                            Harry Potter has lived under the stairs at his aunt and uncle's house his whole life. But on his 11th birthday, he learns he's a powerful wizard -- with a place waiting for him at the Hogwarts School of Witchcraft and Wizardry. As he learns to harness his newfound powers with the help of the school's kindly headmaster, Harry uncovers the truth about his parents' deaths -- and about the villain who's to blame.                                                                                                            |\n",
       "|  Harry Potter and the Chamber of Secrets  | 2002-11-13 00:00:00.000000 |                                        Hogwarts is back in session.                                        |                                                                                                                                                                                                                                                        Ignoring threats to his life, Harry returns to Hogwarts to investigate û aided by Ron and Hermione û a mysterious series of attacks.                                                                                                                                                                                                                                                        |\n",
       "|  Harry Potter and the Prisoner of Azkaban | 2004-05-31 00:00:00.000000 |                                      Something wicked this way comes.                                      |                                                                                                                                                                                                       Harry, Ron and Hermione return to Hogwarts for another magic-filled year. Harry comes face to face with danger yet again, this time in the form of escaped convict, Sirius Black û and turns to sympathetic Professor Lupin for help.                                                                                                                                                                                                        |\n",
       "|    Harry Potter and the Goblet of Fire    | 2005-11-05 00:00:00.000000 |                                    Dark And Difficult Times Lie Ahead.                                     |                                                                                                                                                                                       Harry starts his fourth year at Hogwarts, competes in the treacherous Triwizard Tournament and faces the evil Lord Voldemort. Ron and Hermione help Harry manage the pressure û but Voldemort lurks, awaiting his chance to destroy Harry and all that he stands for.                                                                                                                                                                                        |\n",
       "| Harry Potter and the Order of the Phoenix | 2007-06-28 00:00:00.000000 |                                          Evil Must Be Confronted.                                          |                                                                                                                                                           Returning for his fifth year of study at Hogwarts, Harry is stunned to find that his warnings about the return of Lord Voldemort have been ignored. Left with no choice, Harry takes matters into his own hands, training a small group of students û dubbed 'Dumbledore's Army' û to defend themselves against the dark arts.                                                                                                                                                           |\n",
       "|   Harry Potter and the Half-Blood Prince  | 2009-07-07 00:00:00.000000 |                                           Dark Secrets Revealed                                            |                                                                                                                                                                                                                                   As Harry begins his sixth year at Hogwarts, he discovers an old book marked as 'Property of the Half-Blood Prince', and begins to learn more about Lord Voldemort's dark past.                                                                                                                                                                                                                                   |\n",
       "|                Galaxy Quest               | 1999-12-23 00:00:00.000000 |                                     A comedy of Galactic Proportions.                                      |                                                                                                                                     The stars of a 1970s sci-fi show - now scraping a living through re-runs and sci-fi conventions - are beamed aboard an alien spacecraft. Believing the cast's heroic on-screen dramas are historical documents of real-life adventures, the band of aliens turn to the ailing celebrities for help in their quest to overcome the oppressive regime in their solar system.                                                                                                                                     |\n",
       "|      Perfume: The Story of a Murderer     | 2006-09-13 00:00:00.000000 |                                      Based on the best-selling novel                                       |                                                                                                                                                                                      Jean-Baptiste Grenouille, born in the stench of 18th century Paris, develops a superior olfactory sense, which he uses to create the world's finest perfumes. However, his work takes a dark turn as he tries to preserve scents in the search for the ultimate perfume.                                                                                                                                                                                      |\n",
       "|              Michael Collins              | 1996-10-25 00:00:00.000000 | Ireland, 1916. His Dreams Inspired Hope. His Words Ignited Passion. His Courage Forged A Nation's Destiny. |                                                                                                                                                                                                                              Michael Collins plays a crucial role in the establishment of the Irish Free State in the 1920s, but becomes vilified by those hoping to create a completely independent Irish republic.                                                                                                                                                                                                                               |\n",
       "|                   Dogma                   | 1999-11-12 00:00:00.000000 |                                     It can be Hell getting into Heaven                                     |                                                                                                                                                                                           The latest battle in the eternal war between Good and Evil has come to New Jersey in the late, late 20th Century. Angels, demons, apostles and prophets (of a sort) walk among the cynics and innocents of America and duke it out for the fate of humankind.                                                                                                                                                                                            |\n",
       "|           Sense and Sensibility           | 1995-12-13 00:00:00.000000 |                                  Lose your heart and come to your senses.                                  |                                                                                                                                                                                                                                                    Rich Mr. Dashwood dies, leaving his second wife and her daughters poor by the rules of inheritance. Two daughters are the titular opposites.                                                                                                                                                                                                                                                    |\n",
       "|    The Hitchhiker's Guide to the Galaxy   | 2005-01-15 00:00:00.000000 |                                       Don't leave Earth without it.                                        |                                                                                                                                                                                                         \"Mere seconds before the Earth is to be demolished by an alien construction crew, Arthur Dent is swept off the planet by his friend Ford Prefect, a researcher penning a new edition of \"\"The Hitchhiker's Guide to the Galaxy.\"\"\"                                                                                                                                                                                                         |\n",
       "|       Robin Hood: Prince of Thieves       | 1991-06-14 00:00:00.000000 |    For the good of all men, and the love of one woman, he fought to uphold justice by breaking the law.    |                                                                                                                                                                                 When the dastardly Sheriff of Nottingham murders Robin's father, the legendary archer vows vengeance. To accomplish his mission, Robin joins forces with a band of exiled villagers (and comely Maid Marian), and together they battle to end the evil sheriff's reign of terror.                                                                                                                                                                                  |\n",
       "|             Quigley Down Under            | 1990-10-17 00:00:00.000000 |                 There's a price on his head. A girl on his mind. And a twinkle in his eye.                 |                                                                                                                                              American Matt Quigley answers Australian land baron Elliott Marston's ad for a sharpshooter to kill the dingoes on his property. But when Quigley finds out that Marston's real target is the aborigines, Quigley hits the road. Now, even American expatriate Crazy Cora can't keep Quigley safe in his cat-and-mouse game with the homicidal Marston.                                                                                                                                               |\n",
       "|            Alice in Wonderland            | 2010-03-03 00:00:00.000000 |                                  You're invited to a very important date.                                  | Alice, an unpretentious and individual 19-year-old, is betrothed to a dunce of an English nobleman. At her engagement party, she escapes the crowd to consider whether to go through with the marriage and falls down a hole in the garden after spotting an unusual rabbit. Arriving in a strange and surreal place called 'Underland,' she finds herself in a world that resembles the nightmares she had as a child, filled with talking animals, villainous queens and knights, and frumious bandersnatches. Alice realizes that she is there for a reason û to conquer the horrific Jabberwocky and restore the rightful queen to her throne. |\n",
       "|                Bottle Shock               | 2008-08-06 00:00:00.000000 |                          Based on a true story of love, victory, and fermentation                          |                                                                                                                                         Paris-based wine expert Steven Spurrier heads to California in search of cheap wine that he can use for a blind taste test in the French capital. Stumbling upon the Napa Valley, the stuck-up Englishman is shocked to discover a winery turning out top-notch chardonnay. Determined to make a name for himself, he sets about getting the booze back to Paris.                                                                                                                                          |\n",
       "|                 The Butler                | 2013-08-16 00:00:00.000000 |                                  One quiet voice can ignite a revolution.                                  |                                                                                                                                                                                                                            A look at the life of Cecil Gaines who served eight presidents as the White House's head butler from 1952 to 1986, and had a unique front-row seat as political and racial history was made.                                                                                                                                                                                                                            |\n",
       "|      Alice Through the Looking Glass      | 2016-05-25 00:00:00.000000 |                                      It's time for a little madness.                                       |                                                                                                                                                                                                                                                 \"In the sequel to Tim Burton's \"\"Alice in Wonderland\"\", Alice Kingsleigh returns to Underland and faces a new adventure in saving the Mad Hatter.\"                                                                                                                                                                                                                                                 |\n",
       "+-------------------------------------------+----------------------------+------------------------------------------------------------------------------------------------------------+----------------------------------------------------------------------------------------------------------------------------------------------------------------------------------------------------------------------------------------------------------------------------------------------------------------------------------------------------------------------------------------------------------------------------------------------------------------------------------------------------------------------------------------------------------------------------------------------------------------------------------------------------+"
      ]
     },
     "execution_count": 62,
     "metadata": {},
     "output_type": "execute_result"
    }
   ],
   "source": [
    "%%sql\n",
    "CREATE VIEW Alan_Rickman_Movies AS\n",
    "SELECT title, release_date, tagline, overview FROM Movies\n",
    "LEFT JOIN Casts ON Casts.movie_id = Movies.movie_id Left JOIN Actors ON Casts.actor_id = Actors.actor_id WHERE Actors.actor_name = 'Alan Rickman'\n"
   ]
  },
  {
   "cell_type": "markdown",
   "id": "42e9915e",
   "metadata": {},
   "source": [
    "### Question 15\n",
    "\n",
    "Which of the statements about database normalisation are true?\n",
    "\n",
    "**Statements:**\n",
    " \n",
    "i) Database normalisation improves data redundancy, saves on storage space, and fulfils the requirement of records to be uniquely identified.\n",
    "\n",
    "ii) Database normalisation supports up to the Third Normal Form and removes all data anomalies.\n",
    "\n",
    "iii) Database normalisation removes inconsistencies that may cause the analysis of our data to be more complicated.\n",
    "\n",
    "iv) Database normalisation increases data redundancy, saves on storage space, and fulfils the requirement of records to be uniquely identified.\n",
    "\n",
    "**Options:**\n",
    "\n",
    " - (i) and (ii)\n",
    " - (i) and (iii)\n",
    " - (ii) and (iv)\n",
    " - (iii) and (iv)"
   ]
  },
  {
   "cell_type": "markdown",
   "id": "26fd094b-0fee-46f1-a4b8-73766813c42b",
   "metadata": {
    "tags": []
   },
   "source": [
    "#  \n",
    "\n",
    "<div align=\"center\" style=\" font-size: 80%; text-align: center; margin: 0 auto\">\n",
    "<img src=\"https://raw.githubusercontent.com/Explore-AI/Pictures/master/ExploreAI_logos/EAI_Blue_Dark.png\"  style=\"width:200px\";/>\n",
    "</div>"
   ]
  }
 ],
 "metadata": {
  "kernelspec": {
   "display_name": "Python 3 (ipykernel)",
   "language": "python",
   "name": "python3"
  },
  "language_info": {
   "codemirror_mode": {
    "name": "ipython",
    "version": 3
   },
   "file_extension": ".py",
   "mimetype": "text/x-python",
   "name": "python",
   "nbconvert_exporter": "python",
   "pygments_lexer": "ipython3",
   "version": "3.11.5"
  }
 },
 "nbformat": 4,
 "nbformat_minor": 5
}
