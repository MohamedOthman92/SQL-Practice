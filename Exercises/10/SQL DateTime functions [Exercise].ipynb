{
 "cells": [
  {
   "cell_type": "markdown",
   "id": "51b1254d",
   "metadata": {},
   "source": [
    "<div align=\"right\" style=\" font-size: 80%; text-align: center; margin: 0 auto\">\n",
    "<img src=\"https://raw.githubusercontent.com/Explore-AI/Pictures/master/ExploreAI_logos/Logo blue_dark.png\"  style=\"width:25px\" align=\"right\";/>\n",
    "</div>"
   ]
  },
  {
   "cell_type": "markdown",
   "id": "f662d169",
   "metadata": {},
   "source": [
    "# SQL DateTime functions \n",
    "© ExploreAI Academy"
   ]
  },
  {
   "cell_type": "markdown",
   "id": "26af890c",
   "metadata": {},
   "source": [
    "In this exercise, we will use DateTime functions to aggregate and filter date and time data in order to extract relevant information. "
   ]
  },
  {
   "cell_type": "markdown",
   "id": "2d230d14",
   "metadata": {},
   "source": [
    "## Learning objectives\n",
    "\n",
    "By the end of this train, you should be able to:\n",
    "- Measure the period between dates and times.\n",
    "- Extract portions of a DateTime column.\n",
    "- Filter a DateTime column using logical and comparison operators."
   ]
  },
  {
   "cell_type": "markdown",
   "id": "7fd5e3b8",
   "metadata": {},
   "source": [
    "First, let's load our sample database:"
   ]
  },
  {
   "cell_type": "code",
   "execution_count": 1,
   "id": "2d0d820e",
   "metadata": {},
   "outputs": [],
   "source": [
    "# Load and activate the SQL extension to allow us to execute SQL in a Jupyter notebook.\n",
    "%load_ext sql\n"
   ]
  },
  {
   "cell_type": "code",
   "execution_count": 2,
   "id": "599e3c6c",
   "metadata": {},
   "outputs": [
    {
     "data": {
      "text/html": [
       "<span style=\"None\">Connecting to &#x27;sqlite:///chinook.db&#x27;</span>"
      ],
      "text/plain": [
       "Connecting to 'sqlite:///chinook.db'"
      ]
     },
     "metadata": {},
     "output_type": "display_data"
    }
   ],
   "source": [
    "# Load the Chinook database stored in your local machine. \n",
    "# Make sure the file is saved in the same folder as this notebook.\n",
    "%sql sqlite:///chinook.db"
   ]
  },
  {
   "cell_type": "markdown",
   "id": "06af8b46",
   "metadata": {},
   "source": [
    "Here is a [view](https://www.lucidchart.com/pages/er-diagrams) of all of our tables in the database:"
   ]
  },
  {
   "cell_type": "markdown",
   "id": "e3d3c848",
   "metadata": {},
   "source": [
    "<div align=\"center\" style=\" font-size: 80%; text-align: center; margin: 0 auto\">\n",
    "<img src=\"https://github.com/Explore-AI/Pictures/blob/master/sqlite-sample-database-color.jpg?raw=true\"  style=\"width:70%\";/>\n",
    "<br>\n",
    "<br>\n",
    "    <em>Figure 1: Chinook ERD</em>\n",
    "</div>\n"
   ]
  },
  {
   "cell_type": "code",
   "execution_count": 17,
   "id": "21ac08d2",
   "metadata": {},
   "outputs": [
    {
     "data": {
      "text/html": [
       "<span style=\"None\">displaylimit: Value None will be treated as 0 (no limit)</span>"
      ],
      "text/plain": [
       "displaylimit: Value None will be treated as 0 (no limit)"
      ]
     },
     "metadata": {},
     "output_type": "display_data"
    }
   ],
   "source": [
    "%config SqlMagic.displaylimit = None"
   ]
  },
  {
   "cell_type": "markdown",
   "id": "653e9dbb",
   "metadata": {},
   "source": [
    "[Image source](https://www.sqlitetutorial.net/sqlite-sample-database/)"
   ]
  },
  {
   "cell_type": "markdown",
   "id": "920e89d2",
   "metadata": {},
   "source": [
    "## Exercise\n",
    "\n",
    "Run the necessary queries that will provide us with the following information. Compare your queries with the solutions at the end of this notebook."
   ]
  },
  {
   "cell_type": "markdown",
   "id": "466e53c1",
   "metadata": {},
   "source": [
    "### Exercise 1\n",
    "\n",
    "Run a query that will give us a view of the data type of the employees table."
   ]
  },
  {
   "cell_type": "code",
   "execution_count": 3,
   "id": "038f28ea",
   "metadata": {},
   "outputs": [
    {
     "data": {
      "text/html": [
       "<span style=\"None\">Running query in &#x27;sqlite:///chinook.db&#x27;</span>"
      ],
      "text/plain": [
       "Running query in 'sqlite:///chinook.db'"
      ]
     },
     "metadata": {},
     "output_type": "display_data"
    },
    {
     "data": {
      "text/html": [
       "<table>\n",
       "    <thead>\n",
       "        <tr>\n",
       "            <th>cid</th>\n",
       "            <th>name</th>\n",
       "            <th>type</th>\n",
       "            <th>notnull</th>\n",
       "            <th>dflt_value</th>\n",
       "            <th>pk</th>\n",
       "        </tr>\n",
       "    </thead>\n",
       "    <tbody>\n",
       "        <tr>\n",
       "            <td>0</td>\n",
       "            <td>EmployeeId</td>\n",
       "            <td>INTEGER</td>\n",
       "            <td>1</td>\n",
       "            <td>None</td>\n",
       "            <td>1</td>\n",
       "        </tr>\n",
       "        <tr>\n",
       "            <td>1</td>\n",
       "            <td>LastName</td>\n",
       "            <td>NVARCHAR(20)</td>\n",
       "            <td>1</td>\n",
       "            <td>None</td>\n",
       "            <td>0</td>\n",
       "        </tr>\n",
       "        <tr>\n",
       "            <td>2</td>\n",
       "            <td>FirstName</td>\n",
       "            <td>NVARCHAR(20)</td>\n",
       "            <td>1</td>\n",
       "            <td>None</td>\n",
       "            <td>0</td>\n",
       "        </tr>\n",
       "        <tr>\n",
       "            <td>3</td>\n",
       "            <td>Title</td>\n",
       "            <td>NVARCHAR(30)</td>\n",
       "            <td>0</td>\n",
       "            <td>None</td>\n",
       "            <td>0</td>\n",
       "        </tr>\n",
       "        <tr>\n",
       "            <td>4</td>\n",
       "            <td>ReportsTo</td>\n",
       "            <td>INTEGER</td>\n",
       "            <td>0</td>\n",
       "            <td>None</td>\n",
       "            <td>0</td>\n",
       "        </tr>\n",
       "        <tr>\n",
       "            <td>5</td>\n",
       "            <td>BirthDate</td>\n",
       "            <td>DATETIME</td>\n",
       "            <td>0</td>\n",
       "            <td>None</td>\n",
       "            <td>0</td>\n",
       "        </tr>\n",
       "        <tr>\n",
       "            <td>6</td>\n",
       "            <td>HireDate</td>\n",
       "            <td>DATETIME</td>\n",
       "            <td>0</td>\n",
       "            <td>None</td>\n",
       "            <td>0</td>\n",
       "        </tr>\n",
       "        <tr>\n",
       "            <td>7</td>\n",
       "            <td>Address</td>\n",
       "            <td>NVARCHAR(70)</td>\n",
       "            <td>0</td>\n",
       "            <td>None</td>\n",
       "            <td>0</td>\n",
       "        </tr>\n",
       "        <tr>\n",
       "            <td>8</td>\n",
       "            <td>City</td>\n",
       "            <td>NVARCHAR(40)</td>\n",
       "            <td>0</td>\n",
       "            <td>None</td>\n",
       "            <td>0</td>\n",
       "        </tr>\n",
       "        <tr>\n",
       "            <td>9</td>\n",
       "            <td>State</td>\n",
       "            <td>NVARCHAR(40)</td>\n",
       "            <td>0</td>\n",
       "            <td>None</td>\n",
       "            <td>0</td>\n",
       "        </tr>\n",
       "    </tbody>\n",
       "</table>\n",
       "<span style=\"font-style:italic;text-align:center;\">Truncated to <a href=\"https://jupysql.ploomber.io/en/latest/api/configuration.html#displaylimit\">displaylimit</a> of 10.</span>"
      ],
      "text/plain": [
       "+-----+------------+--------------+---------+------------+----+\n",
       "| cid |    name    |     type     | notnull | dflt_value | pk |\n",
       "+-----+------------+--------------+---------+------------+----+\n",
       "|  0  | EmployeeId |   INTEGER    |    1    |    None    | 1  |\n",
       "|  1  |  LastName  | NVARCHAR(20) |    1    |    None    | 0  |\n",
       "|  2  | FirstName  | NVARCHAR(20) |    1    |    None    | 0  |\n",
       "|  3  |   Title    | NVARCHAR(30) |    0    |    None    | 0  |\n",
       "|  4  | ReportsTo  |   INTEGER    |    0    |    None    | 0  |\n",
       "|  5  | BirthDate  |   DATETIME   |    0    |    None    | 0  |\n",
       "|  6  |  HireDate  |   DATETIME   |    0    |    None    | 0  |\n",
       "|  7  |  Address   | NVARCHAR(70) |    0    |    None    | 0  |\n",
       "|  8  |    City    | NVARCHAR(40) |    0    |    None    | 0  |\n",
       "|  9  |   State    | NVARCHAR(40) |    0    |    None    | 0  |\n",
       "+-----+------------+--------------+---------+------------+----+\n",
       "Truncated to displaylimit of 10."
      ]
     },
     "execution_count": 3,
     "metadata": {},
     "output_type": "execute_result"
    }
   ],
   "source": [
    "%%sql\n",
    "\n",
    "PRAGMA table_info(employees)"
   ]
  },
  {
   "cell_type": "markdown",
   "id": "86802726",
   "metadata": {},
   "source": [
    "### Exercise 2\n",
    "\n",
    "\n",
    "We write a query that shows the age of all employees when they were hired.\n",
    "\n",
    "Return data in the `FirstName` and `LastName` columns and create an `Age when hired` alias for the age from the employees table."
   ]
  },
  {
   "cell_type": "code",
   "execution_count": 14,
   "id": "91f3421f",
   "metadata": {},
   "outputs": [
    {
     "data": {
      "text/html": [
       "<span style=\"None\">Running query in &#x27;sqlite:///chinook.db&#x27;</span>"
      ],
      "text/plain": [
       "Running query in 'sqlite:///chinook.db'"
      ]
     },
     "metadata": {},
     "output_type": "display_data"
    },
    {
     "data": {
      "text/html": [
       "<table>\n",
       "    <thead>\n",
       "        <tr>\n",
       "            <th>FirstName</th>\n",
       "            <th>LastName</th>\n",
       "            <th>Age_when_hired</th>\n",
       "        </tr>\n",
       "    </thead>\n",
       "    <tbody>\n",
       "        <tr>\n",
       "            <td>Andrew</td>\n",
       "            <td>Adams</td>\n",
       "            <td>40</td>\n",
       "        </tr>\n",
       "        <tr>\n",
       "            <td>Nancy</td>\n",
       "            <td>Edwards</td>\n",
       "            <td>44</td>\n",
       "        </tr>\n",
       "        <tr>\n",
       "            <td>Jane</td>\n",
       "            <td>Peacock</td>\n",
       "            <td>29</td>\n",
       "        </tr>\n",
       "        <tr>\n",
       "            <td>Margaret</td>\n",
       "            <td>Park</td>\n",
       "            <td>56</td>\n",
       "        </tr>\n",
       "        <tr>\n",
       "            <td>Steve</td>\n",
       "            <td>Johnson</td>\n",
       "            <td>38</td>\n",
       "        </tr>\n",
       "        <tr>\n",
       "            <td>Michael</td>\n",
       "            <td>Mitchell</td>\n",
       "            <td>30</td>\n",
       "        </tr>\n",
       "        <tr>\n",
       "            <td>Robert</td>\n",
       "            <td>King</td>\n",
       "            <td>34</td>\n",
       "        </tr>\n",
       "        <tr>\n",
       "            <td>Laura</td>\n",
       "            <td>Callahan</td>\n",
       "            <td>36</td>\n",
       "        </tr>\n",
       "    </tbody>\n",
       "</table>"
      ],
      "text/plain": [
       "+-----------+----------+----------------+\n",
       "| FirstName | LastName | Age_when_hired |\n",
       "+-----------+----------+----------------+\n",
       "|   Andrew  |  Adams   |       40       |\n",
       "|   Nancy   | Edwards  |       44       |\n",
       "|    Jane   | Peacock  |       29       |\n",
       "|  Margaret |   Park   |       56       |\n",
       "|   Steve   | Johnson  |       38       |\n",
       "|  Michael  | Mitchell |       30       |\n",
       "|   Robert  |   King   |       34       |\n",
       "|   Laura   | Callahan |       36       |\n",
       "+-----------+----------+----------------+"
      ]
     },
     "execution_count": 14,
     "metadata": {},
     "output_type": "execute_result"
    }
   ],
   "source": [
    "%%sql\n",
    "\n",
    "SELECT\n",
    "    FirstName,\n",
    "    LastName,\n",
    "    HireDate - BirthDate AS Age_when_hired\n",
    "FROM\n",
    "    employees;"
   ]
  },
  {
   "cell_type": "markdown",
   "id": "f0fade51",
   "metadata": {},
   "source": [
    "### Exercise 3\n",
    "\n",
    "In the context of DateTime SQL objects, the `substr()` function allows us to trim or extract certain information within the date or time. We use it by specifying the string and the indices from which to show data, i.e.\n",
    "`substr(datetime_column,start_index, end_index)`\n",
    "\n",
    "Write a query that calculates the month-to-month revenue at Chinook. \n",
    "\n",
    "Return the month and revenue and use aliases to name the calculated columns appropriately."
   ]
  },
  {
   "cell_type": "code",
   "execution_count": 44,
   "id": "748f4263",
   "metadata": {},
   "outputs": [
    {
     "data": {
      "text/html": [
       "<span style=\"None\">Running query in &#x27;sqlite:///chinook.db&#x27;</span>"
      ],
      "text/plain": [
       "Running query in 'sqlite:///chinook.db'"
      ]
     },
     "metadata": {},
     "output_type": "display_data"
    },
    {
     "data": {
      "text/html": [
       "<table>\n",
       "    <thead>\n",
       "        <tr>\n",
       "            <th>SUBSTR(InvoiceDate,1,7)</th>\n",
       "            <th>ROUND(SUM(Total))</th>\n",
       "        </tr>\n",
       "    </thead>\n",
       "    <tbody>\n",
       "        <tr>\n",
       "            <td>2009-01</td>\n",
       "            <td>36.0</td>\n",
       "        </tr>\n",
       "        <tr>\n",
       "            <td>2009-02</td>\n",
       "            <td>38.0</td>\n",
       "        </tr>\n",
       "        <tr>\n",
       "            <td>2009-03</td>\n",
       "            <td>38.0</td>\n",
       "        </tr>\n",
       "        <tr>\n",
       "            <td>2009-04</td>\n",
       "            <td>38.0</td>\n",
       "        </tr>\n",
       "        <tr>\n",
       "            <td>2009-05</td>\n",
       "            <td>38.0</td>\n",
       "        </tr>\n",
       "        <tr>\n",
       "            <td>2009-06</td>\n",
       "            <td>38.0</td>\n",
       "        </tr>\n",
       "        <tr>\n",
       "            <td>2009-07</td>\n",
       "            <td>38.0</td>\n",
       "        </tr>\n",
       "        <tr>\n",
       "            <td>2009-08</td>\n",
       "            <td>38.0</td>\n",
       "        </tr>\n",
       "        <tr>\n",
       "            <td>2009-09</td>\n",
       "            <td>38.0</td>\n",
       "        </tr>\n",
       "        <tr>\n",
       "            <td>2009-10</td>\n",
       "            <td>38.0</td>\n",
       "        </tr>\n",
       "        <tr>\n",
       "            <td>2009-11</td>\n",
       "            <td>38.0</td>\n",
       "        </tr>\n",
       "        <tr>\n",
       "            <td>2009-12</td>\n",
       "            <td>38.0</td>\n",
       "        </tr>\n",
       "        <tr>\n",
       "            <td>2010-01</td>\n",
       "            <td>53.0</td>\n",
       "        </tr>\n",
       "        <tr>\n",
       "            <td>2010-02</td>\n",
       "            <td>47.0</td>\n",
       "        </tr>\n",
       "        <tr>\n",
       "            <td>2010-03</td>\n",
       "            <td>45.0</td>\n",
       "        </tr>\n",
       "        <tr>\n",
       "            <td>2010-04</td>\n",
       "            <td>38.0</td>\n",
       "        </tr>\n",
       "        <tr>\n",
       "            <td>2010-05</td>\n",
       "            <td>38.0</td>\n",
       "        </tr>\n",
       "        <tr>\n",
       "            <td>2010-06</td>\n",
       "            <td>38.0</td>\n",
       "        </tr>\n",
       "        <tr>\n",
       "            <td>2010-07</td>\n",
       "            <td>38.0</td>\n",
       "        </tr>\n",
       "        <tr>\n",
       "            <td>2010-08</td>\n",
       "            <td>38.0</td>\n",
       "        </tr>\n",
       "        <tr>\n",
       "            <td>2010-09</td>\n",
       "            <td>37.0</td>\n",
       "        </tr>\n",
       "        <tr>\n",
       "            <td>2010-10</td>\n",
       "            <td>38.0</td>\n",
       "        </tr>\n",
       "        <tr>\n",
       "            <td>2010-11</td>\n",
       "            <td>38.0</td>\n",
       "        </tr>\n",
       "        <tr>\n",
       "            <td>2010-12</td>\n",
       "            <td>38.0</td>\n",
       "        </tr>\n",
       "        <tr>\n",
       "            <td>2011-01</td>\n",
       "            <td>38.0</td>\n",
       "        </tr>\n",
       "        <tr>\n",
       "            <td>2011-02</td>\n",
       "            <td>38.0</td>\n",
       "        </tr>\n",
       "        <tr>\n",
       "            <td>2011-03</td>\n",
       "            <td>38.0</td>\n",
       "        </tr>\n",
       "        <tr>\n",
       "            <td>2011-04</td>\n",
       "            <td>52.0</td>\n",
       "        </tr>\n",
       "        <tr>\n",
       "            <td>2011-05</td>\n",
       "            <td>43.0</td>\n",
       "        </tr>\n",
       "        <tr>\n",
       "            <td>2011-06</td>\n",
       "            <td>51.0</td>\n",
       "        </tr>\n",
       "        <tr>\n",
       "            <td>2011-07</td>\n",
       "            <td>38.0</td>\n",
       "        </tr>\n",
       "        <tr>\n",
       "            <td>2011-08</td>\n",
       "            <td>38.0</td>\n",
       "        </tr>\n",
       "        <tr>\n",
       "            <td>2011-09</td>\n",
       "            <td>38.0</td>\n",
       "        </tr>\n",
       "        <tr>\n",
       "            <td>2011-10</td>\n",
       "            <td>38.0</td>\n",
       "        </tr>\n",
       "        <tr>\n",
       "            <td>2011-11</td>\n",
       "            <td>24.0</td>\n",
       "        </tr>\n",
       "        <tr>\n",
       "            <td>2011-12</td>\n",
       "            <td>38.0</td>\n",
       "        </tr>\n",
       "        <tr>\n",
       "            <td>2012-01</td>\n",
       "            <td>38.0</td>\n",
       "        </tr>\n",
       "        <tr>\n",
       "            <td>2012-02</td>\n",
       "            <td>38.0</td>\n",
       "        </tr>\n",
       "        <tr>\n",
       "            <td>2012-03</td>\n",
       "            <td>38.0</td>\n",
       "        </tr>\n",
       "        <tr>\n",
       "            <td>2012-04</td>\n",
       "            <td>38.0</td>\n",
       "        </tr>\n",
       "        <tr>\n",
       "            <td>2012-05</td>\n",
       "            <td>38.0</td>\n",
       "        </tr>\n",
       "        <tr>\n",
       "            <td>2012-06</td>\n",
       "            <td>38.0</td>\n",
       "        </tr>\n",
       "        <tr>\n",
       "            <td>2012-07</td>\n",
       "            <td>40.0</td>\n",
       "        </tr>\n",
       "        <tr>\n",
       "            <td>2012-08</td>\n",
       "            <td>48.0</td>\n",
       "        </tr>\n",
       "        <tr>\n",
       "            <td>2012-09</td>\n",
       "            <td>47.0</td>\n",
       "        </tr>\n",
       "        <tr>\n",
       "            <td>2012-10</td>\n",
       "            <td>43.0</td>\n",
       "        </tr>\n",
       "        <tr>\n",
       "            <td>2012-11</td>\n",
       "            <td>38.0</td>\n",
       "        </tr>\n",
       "        <tr>\n",
       "            <td>2012-12</td>\n",
       "            <td>38.0</td>\n",
       "        </tr>\n",
       "        <tr>\n",
       "            <td>2013-01</td>\n",
       "            <td>38.0</td>\n",
       "        </tr>\n",
       "        <tr>\n",
       "            <td>2013-02</td>\n",
       "            <td>28.0</td>\n",
       "        </tr>\n",
       "        <tr>\n",
       "            <td>2013-03</td>\n",
       "            <td>38.0</td>\n",
       "        </tr>\n",
       "        <tr>\n",
       "            <td>2013-04</td>\n",
       "            <td>34.0</td>\n",
       "        </tr>\n",
       "        <tr>\n",
       "            <td>2013-05</td>\n",
       "            <td>38.0</td>\n",
       "        </tr>\n",
       "        <tr>\n",
       "            <td>2013-06</td>\n",
       "            <td>38.0</td>\n",
       "        </tr>\n",
       "        <tr>\n",
       "            <td>2013-07</td>\n",
       "            <td>38.0</td>\n",
       "        </tr>\n",
       "        <tr>\n",
       "            <td>2013-08</td>\n",
       "            <td>38.0</td>\n",
       "        </tr>\n",
       "        <tr>\n",
       "            <td>2013-09</td>\n",
       "            <td>38.0</td>\n",
       "        </tr>\n",
       "        <tr>\n",
       "            <td>2013-10</td>\n",
       "            <td>38.0</td>\n",
       "        </tr>\n",
       "        <tr>\n",
       "            <td>2013-11</td>\n",
       "            <td>50.0</td>\n",
       "        </tr>\n",
       "        <tr>\n",
       "            <td>2013-12</td>\n",
       "            <td>39.0</td>\n",
       "        </tr>\n",
       "    </tbody>\n",
       "</table>"
      ],
      "text/plain": [
       "+-------------------------+-------------------+\n",
       "| SUBSTR(InvoiceDate,1,7) | ROUND(SUM(Total)) |\n",
       "+-------------------------+-------------------+\n",
       "|         2009-01         |        36.0       |\n",
       "|         2009-02         |        38.0       |\n",
       "|         2009-03         |        38.0       |\n",
       "|         2009-04         |        38.0       |\n",
       "|         2009-05         |        38.0       |\n",
       "|         2009-06         |        38.0       |\n",
       "|         2009-07         |        38.0       |\n",
       "|         2009-08         |        38.0       |\n",
       "|         2009-09         |        38.0       |\n",
       "|         2009-10         |        38.0       |\n",
       "|         2009-11         |        38.0       |\n",
       "|         2009-12         |        38.0       |\n",
       "|         2010-01         |        53.0       |\n",
       "|         2010-02         |        47.0       |\n",
       "|         2010-03         |        45.0       |\n",
       "|         2010-04         |        38.0       |\n",
       "|         2010-05         |        38.0       |\n",
       "|         2010-06         |        38.0       |\n",
       "|         2010-07         |        38.0       |\n",
       "|         2010-08         |        38.0       |\n",
       "|         2010-09         |        37.0       |\n",
       "|         2010-10         |        38.0       |\n",
       "|         2010-11         |        38.0       |\n",
       "|         2010-12         |        38.0       |\n",
       "|         2011-01         |        38.0       |\n",
       "|         2011-02         |        38.0       |\n",
       "|         2011-03         |        38.0       |\n",
       "|         2011-04         |        52.0       |\n",
       "|         2011-05         |        43.0       |\n",
       "|         2011-06         |        51.0       |\n",
       "|         2011-07         |        38.0       |\n",
       "|         2011-08         |        38.0       |\n",
       "|         2011-09         |        38.0       |\n",
       "|         2011-10         |        38.0       |\n",
       "|         2011-11         |        24.0       |\n",
       "|         2011-12         |        38.0       |\n",
       "|         2012-01         |        38.0       |\n",
       "|         2012-02         |        38.0       |\n",
       "|         2012-03         |        38.0       |\n",
       "|         2012-04         |        38.0       |\n",
       "|         2012-05         |        38.0       |\n",
       "|         2012-06         |        38.0       |\n",
       "|         2012-07         |        40.0       |\n",
       "|         2012-08         |        48.0       |\n",
       "|         2012-09         |        47.0       |\n",
       "|         2012-10         |        43.0       |\n",
       "|         2012-11         |        38.0       |\n",
       "|         2012-12         |        38.0       |\n",
       "|         2013-01         |        38.0       |\n",
       "|         2013-02         |        28.0       |\n",
       "|         2013-03         |        38.0       |\n",
       "|         2013-04         |        34.0       |\n",
       "|         2013-05         |        38.0       |\n",
       "|         2013-06         |        38.0       |\n",
       "|         2013-07         |        38.0       |\n",
       "|         2013-08         |        38.0       |\n",
       "|         2013-09         |        38.0       |\n",
       "|         2013-10         |        38.0       |\n",
       "|         2013-11         |        50.0       |\n",
       "|         2013-12         |        39.0       |\n",
       "+-------------------------+-------------------+"
      ]
     },
     "execution_count": 44,
     "metadata": {},
     "output_type": "execute_result"
    }
   ],
   "source": [
    "%%sql\n",
    "\n",
    "SELECT\n",
    "    SUBSTR(InvoiceDate,1,7),\n",
    "    ROUND(SUM(Total))\n",
    "FROM\n",
    "    invoices\n",
    "GROUP BY 1\n",
    "ORDER BY 1"
   ]
  },
  {
   "cell_type": "markdown",
   "id": "f28aef00",
   "metadata": {},
   "source": [
    "### Exercise 4\n",
    "\n",
    "Write a query that calculates the year-to-year revenue at Chinook."
   ]
  },
  {
   "cell_type": "code",
   "execution_count": 45,
   "id": "f4621a53",
   "metadata": {},
   "outputs": [
    {
     "data": {
      "text/html": [
       "<span style=\"None\">Running query in &#x27;sqlite:///chinook.db&#x27;</span>"
      ],
      "text/plain": [
       "Running query in 'sqlite:///chinook.db'"
      ]
     },
     "metadata": {},
     "output_type": "display_data"
    },
    {
     "data": {
      "text/html": [
       "<table>\n",
       "    <thead>\n",
       "        <tr>\n",
       "            <th>SUBSTR(InvoiceDate,1,4)</th>\n",
       "            <th>ROUND(SUM(Total),2)</th>\n",
       "        </tr>\n",
       "    </thead>\n",
       "    <tbody>\n",
       "        <tr>\n",
       "            <td>2009</td>\n",
       "            <td>449.46</td>\n",
       "        </tr>\n",
       "        <tr>\n",
       "            <td>2010</td>\n",
       "            <td>481.45</td>\n",
       "        </tr>\n",
       "        <tr>\n",
       "            <td>2011</td>\n",
       "            <td>469.58</td>\n",
       "        </tr>\n",
       "        <tr>\n",
       "            <td>2012</td>\n",
       "            <td>477.53</td>\n",
       "        </tr>\n",
       "        <tr>\n",
       "            <td>2013</td>\n",
       "            <td>450.58</td>\n",
       "        </tr>\n",
       "    </tbody>\n",
       "</table>"
      ],
      "text/plain": [
       "+-------------------------+---------------------+\n",
       "| SUBSTR(InvoiceDate,1,4) | ROUND(SUM(Total),2) |\n",
       "+-------------------------+---------------------+\n",
       "|           2009          |        449.46       |\n",
       "|           2010          |        481.45       |\n",
       "|           2011          |        469.58       |\n",
       "|           2012          |        477.53       |\n",
       "|           2013          |        450.58       |\n",
       "+-------------------------+---------------------+"
      ]
     },
     "execution_count": 45,
     "metadata": {},
     "output_type": "execute_result"
    }
   ],
   "source": [
    "%%sql\n",
    "\n",
    "SELECT\n",
    "    SUBSTR(InvoiceDate,1,4),\n",
    "    ROUND(SUM(Total),2)\n",
    "FROM\n",
    "    invoices\n",
    "GROUP BY 1"
   ]
  },
  {
   "cell_type": "markdown",
   "id": "7a51093c",
   "metadata": {},
   "source": [
    "### Exercise 5\n",
    "\n",
    "Write a query that returns employees who were hired after 2002-08-14 and before 2003-10-17."
   ]
  },
  {
   "cell_type": "code",
   "execution_count": 49,
   "id": "99479d5f",
   "metadata": {},
   "outputs": [
    {
     "data": {
      "text/html": [
       "<span style=\"None\">Running query in &#x27;sqlite:///chinook.db&#x27;</span>"
      ],
      "text/plain": [
       "Running query in 'sqlite:///chinook.db'"
      ]
     },
     "metadata": {},
     "output_type": "display_data"
    },
    {
     "data": {
      "text/html": [
       "<table>\n",
       "    <thead>\n",
       "        <tr>\n",
       "            <th>EmployeeId</th>\n",
       "            <th>FullName</th>\n",
       "            <th>HireDate</th>\n",
       "        </tr>\n",
       "    </thead>\n",
       "    <tbody>\n",
       "        <tr>\n",
       "            <td>1</td>\n",
       "            <td>Andrew Adams</td>\n",
       "            <td>2002-08-14 00:00:00</td>\n",
       "        </tr>\n",
       "        <tr>\n",
       "            <td>4</td>\n",
       "            <td>Margaret Park</td>\n",
       "            <td>2003-05-03 00:00:00</td>\n",
       "        </tr>\n",
       "    </tbody>\n",
       "</table>"
      ],
      "text/plain": [
       "+------------+---------------+---------------------+\n",
       "| EmployeeId |    FullName   |       HireDate      |\n",
       "+------------+---------------+---------------------+\n",
       "|     1      |  Andrew Adams | 2002-08-14 00:00:00 |\n",
       "|     4      | Margaret Park | 2003-05-03 00:00:00 |\n",
       "+------------+---------------+---------------------+"
      ]
     },
     "execution_count": 49,
     "metadata": {},
     "output_type": "execute_result"
    }
   ],
   "source": [
    "%%sql\n",
    "\n",
    "SELECT\n",
    "    EmployeeID,\n",
    "    FirstName || \" \" || LastName AS FullName,\n",
    "    HireDate\n",
    "FROM\n",
    "    employees\n",
    "WHERE\n",
    "    HireDate BETWEEN '2002-08-14' AND '2003-10-17'"
   ]
  },
  {
   "cell_type": "markdown",
   "id": "b3c88335",
   "metadata": {},
   "source": [
    "    ## Solutions"
   ]
  },
  {
   "cell_type": "markdown",
   "id": "a5084b12",
   "metadata": {},
   "source": [
    "### Exercise 1"
   ]
  },
  {
   "cell_type": "code",
   "execution_count": null,
   "id": "c968d875",
   "metadata": {
    "scrolled": true
   },
   "outputs": [],
   "source": [
    "%%sql\n",
    "\n",
    "PRAGMA table_info(employees);"
   ]
  },
  {
   "cell_type": "markdown",
   "id": "294d8eef",
   "metadata": {},
   "source": [
    "### Exercise 2"
   ]
  },
  {
   "cell_type": "code",
   "execution_count": 9,
   "id": "03071e34",
   "metadata": {},
   "outputs": [
    {
     "data": {
      "text/html": [
       "<span style=\"None\">Running query in &#x27;sqlite:///chinook.db&#x27;</span>"
      ],
      "text/plain": [
       "Running query in 'sqlite:///chinook.db'"
      ]
     },
     "metadata": {},
     "output_type": "display_data"
    },
    {
     "data": {
      "text/html": [
       "<table>\n",
       "    <thead>\n",
       "        <tr>\n",
       "            <th>FirstName</th>\n",
       "            <th>LastName</th>\n",
       "            <th>Age when hired</th>\n",
       "        </tr>\n",
       "    </thead>\n",
       "    <tbody>\n",
       "        <tr>\n",
       "            <td>Jane</td>\n",
       "            <td>Peacock</td>\n",
       "            <td>29</td>\n",
       "        </tr>\n",
       "        <tr>\n",
       "            <td>Michael</td>\n",
       "            <td>Mitchell</td>\n",
       "            <td>30</td>\n",
       "        </tr>\n",
       "        <tr>\n",
       "            <td>Robert</td>\n",
       "            <td>King</td>\n",
       "            <td>34</td>\n",
       "        </tr>\n",
       "        <tr>\n",
       "            <td>Laura</td>\n",
       "            <td>Callahan</td>\n",
       "            <td>36</td>\n",
       "        </tr>\n",
       "        <tr>\n",
       "            <td>Steve</td>\n",
       "            <td>Johnson</td>\n",
       "            <td>38</td>\n",
       "        </tr>\n",
       "        <tr>\n",
       "            <td>Andrew</td>\n",
       "            <td>Adams</td>\n",
       "            <td>40</td>\n",
       "        </tr>\n",
       "        <tr>\n",
       "            <td>Nancy</td>\n",
       "            <td>Edwards</td>\n",
       "            <td>44</td>\n",
       "        </tr>\n",
       "        <tr>\n",
       "            <td>Margaret</td>\n",
       "            <td>Park</td>\n",
       "            <td>56</td>\n",
       "        </tr>\n",
       "    </tbody>\n",
       "</table>"
      ],
      "text/plain": [
       "+-----------+----------+----------------+\n",
       "| FirstName | LastName | Age when hired |\n",
       "+-----------+----------+----------------+\n",
       "|    Jane   | Peacock  |       29       |\n",
       "|  Michael  | Mitchell |       30       |\n",
       "|   Robert  |   King   |       34       |\n",
       "|   Laura   | Callahan |       36       |\n",
       "|   Steve   | Johnson  |       38       |\n",
       "|   Andrew  |  Adams   |       40       |\n",
       "|   Nancy   | Edwards  |       44       |\n",
       "|  Margaret |   Park   |       56       |\n",
       "+-----------+----------+----------------+"
      ]
     },
     "execution_count": 9,
     "metadata": {},
     "output_type": "execute_result"
    }
   ],
   "source": [
    "%%sql\n",
    "\n",
    "SELECT \n",
    "    FirstName, \n",
    "    LastName, \n",
    "    HireDate - BirthDate AS \"Age when hired\"\n",
    "FROM \n",
    "    employees\n",
    "ORDER BY 3;"
   ]
  },
  {
   "cell_type": "markdown",
   "id": "13e9f288",
   "metadata": {},
   "source": [
    "The \"Age when hired\" column contains INTERVAL type data, i.e. in years in this case. In other words, we subtracted two dates to obtain an interval value."
   ]
  },
  {
   "cell_type": "markdown",
   "id": "eafe40b6",
   "metadata": {},
   "source": [
    "### Exercise 3"
   ]
  },
  {
   "cell_type": "code",
   "execution_count": 31,
   "id": "1ffd2239",
   "metadata": {},
   "outputs": [
    {
     "data": {
      "text/html": [
       "<span style=\"None\">Running query in &#x27;sqlite:///chinook.db&#x27;</span>"
      ],
      "text/plain": [
       "Running query in 'sqlite:///chinook.db'"
      ]
     },
     "metadata": {},
     "output_type": "display_data"
    },
    {
     "data": {
      "text/html": [
       "<table>\n",
       "    <thead>\n",
       "        <tr>\n",
       "            <th>Month</th>\n",
       "            <th>Revenue</th>\n",
       "        </tr>\n",
       "    </thead>\n",
       "    <tbody>\n",
       "        <tr>\n",
       "            <td>2009-01</td>\n",
       "            <td>35.64</td>\n",
       "        </tr>\n",
       "        <tr>\n",
       "            <td>2009-02</td>\n",
       "            <td>37.62</td>\n",
       "        </tr>\n",
       "        <tr>\n",
       "            <td>2009-03</td>\n",
       "            <td>37.62</td>\n",
       "        </tr>\n",
       "        <tr>\n",
       "            <td>2009-04</td>\n",
       "            <td>37.62</td>\n",
       "        </tr>\n",
       "        <tr>\n",
       "            <td>2009-05</td>\n",
       "            <td>37.62</td>\n",
       "        </tr>\n",
       "        <tr>\n",
       "            <td>2009-06</td>\n",
       "            <td>37.62</td>\n",
       "        </tr>\n",
       "        <tr>\n",
       "            <td>2009-07</td>\n",
       "            <td>37.62</td>\n",
       "        </tr>\n",
       "        <tr>\n",
       "            <td>2009-08</td>\n",
       "            <td>37.62</td>\n",
       "        </tr>\n",
       "        <tr>\n",
       "            <td>2009-09</td>\n",
       "            <td>37.62</td>\n",
       "        </tr>\n",
       "        <tr>\n",
       "            <td>2009-10</td>\n",
       "            <td>37.62</td>\n",
       "        </tr>\n",
       "    </tbody>\n",
       "</table>"
      ],
      "text/plain": [
       "+---------+---------+\n",
       "|  Month  | Revenue |\n",
       "+---------+---------+\n",
       "| 2009-01 |  35.64  |\n",
       "| 2009-02 |  37.62  |\n",
       "| 2009-03 |  37.62  |\n",
       "| 2009-04 |  37.62  |\n",
       "| 2009-05 |  37.62  |\n",
       "| 2009-06 |  37.62  |\n",
       "| 2009-07 |  37.62  |\n",
       "| 2009-08 |  37.62  |\n",
       "| 2009-09 |  37.62  |\n",
       "| 2009-10 |  37.62  |\n",
       "+---------+---------+"
      ]
     },
     "execution_count": 31,
     "metadata": {},
     "output_type": "execute_result"
    }
   ],
   "source": [
    "%%sql\n",
    "\n",
    "SELECT \n",
    "    SUBSTR(InvoiceDate,1,7) AS \"Month\", \n",
    "    SUM(Total) AS \"Revenue\"\n",
    "FROM \n",
    "    invoices\n",
    "GROUP BY 1\n",
    "ORDER BY 1\n",
    "LIMIT 10;\n"
   ]
  },
  {
   "cell_type": "markdown",
   "id": "e9956efe",
   "metadata": {},
   "source": [
    "### Exercise 4"
   ]
  },
  {
   "cell_type": "code",
   "execution_count": 38,
   "id": "cd662edc",
   "metadata": {},
   "outputs": [
    {
     "data": {
      "text/html": [
       "<span style=\"None\">Running query in &#x27;sqlite:///chinook.db&#x27;</span>"
      ],
      "text/plain": [
       "Running query in 'sqlite:///chinook.db'"
      ]
     },
     "metadata": {},
     "output_type": "display_data"
    },
    {
     "data": {
      "text/html": [
       "<table>\n",
       "    <thead>\n",
       "        <tr>\n",
       "            <th>Year</th>\n",
       "            <th>Revenue</th>\n",
       "        </tr>\n",
       "    </thead>\n",
       "    <tbody>\n",
       "        <tr>\n",
       "            <td>2009</td>\n",
       "            <td>449.46</td>\n",
       "        </tr>\n",
       "        <tr>\n",
       "            <td>2010</td>\n",
       "            <td>481.45</td>\n",
       "        </tr>\n",
       "        <tr>\n",
       "            <td>2011</td>\n",
       "            <td>469.58</td>\n",
       "        </tr>\n",
       "        <tr>\n",
       "            <td>2012</td>\n",
       "            <td>477.53</td>\n",
       "        </tr>\n",
       "        <tr>\n",
       "            <td>2013</td>\n",
       "            <td>450.58</td>\n",
       "        </tr>\n",
       "    </tbody>\n",
       "</table>"
      ],
      "text/plain": [
       "+------+---------+\n",
       "| Year | Revenue |\n",
       "+------+---------+\n",
       "| 2009 |  449.46 |\n",
       "| 2010 |  481.45 |\n",
       "| 2011 |  469.58 |\n",
       "| 2012 |  477.53 |\n",
       "| 2013 |  450.58 |\n",
       "+------+---------+"
      ]
     },
     "execution_count": 38,
     "metadata": {},
     "output_type": "execute_result"
    }
   ],
   "source": [
    "%%sql\n",
    "\n",
    "SELECT \n",
    "    SUBSTR(InvoiceDate,1,4) AS \"Year\", \n",
    "    ROUND(SUM(Total),2) AS \"Revenue\"\n",
    "FROM invoices\n",
    "GROUP BY 1\n",
    "ORDER BY 1;"
   ]
  },
  {
   "cell_type": "markdown",
   "id": "c1341a11",
   "metadata": {},
   "source": [
    "### Exercise 5"
   ]
  },
  {
   "cell_type": "code",
   "execution_count": null,
   "id": "9a0cf068",
   "metadata": {},
   "outputs": [],
   "source": [
    "%%sql \n",
    "\n",
    "SELECT \n",
    "    *\n",
    "FROM \n",
    "    employees\n",
    "WHERE \n",
    "    HireDate between '2002-08-14' AND '2003-10-17';"
   ]
  },
  {
   "cell_type": "markdown",
   "id": "ad808bf0",
   "metadata": {},
   "source": [
    "We can achieve the same result using standard comparison operators such as <, >, and =."
   ]
  },
  {
   "cell_type": "code",
   "execution_count": 50,
   "id": "38342577",
   "metadata": {},
   "outputs": [
    {
     "data": {
      "text/html": [
       "<span style=\"None\">Running query in &#x27;sqlite:///chinook.db&#x27;</span>"
      ],
      "text/plain": [
       "Running query in 'sqlite:///chinook.db'"
      ]
     },
     "metadata": {},
     "output_type": "display_data"
    },
    {
     "data": {
      "text/html": [
       "<table>\n",
       "    <thead>\n",
       "        <tr>\n",
       "            <th>EmployeeId</th>\n",
       "            <th>LastName</th>\n",
       "            <th>FirstName</th>\n",
       "            <th>Title</th>\n",
       "            <th>ReportsTo</th>\n",
       "            <th>BirthDate</th>\n",
       "            <th>HireDate</th>\n",
       "            <th>Address</th>\n",
       "            <th>City</th>\n",
       "            <th>State</th>\n",
       "            <th>Country</th>\n",
       "            <th>PostalCode</th>\n",
       "            <th>Phone</th>\n",
       "            <th>Fax</th>\n",
       "            <th>Email</th>\n",
       "        </tr>\n",
       "    </thead>\n",
       "    <tbody>\n",
       "        <tr>\n",
       "            <td>1</td>\n",
       "            <td>Adams</td>\n",
       "            <td>Andrew</td>\n",
       "            <td>General Manager</td>\n",
       "            <td>None</td>\n",
       "            <td>1962-02-18 00:00:00</td>\n",
       "            <td>2002-08-14 00:00:00</td>\n",
       "            <td>11120 Jasper Ave NW</td>\n",
       "            <td>Edmonton</td>\n",
       "            <td>AB</td>\n",
       "            <td>Canada</td>\n",
       "            <td>T5K 2N1</td>\n",
       "            <td>+1 (780) 428-9482</td>\n",
       "            <td>+1 (780) 428-3457</td>\n",
       "            <td>andrew@chinookcorp.com</td>\n",
       "        </tr>\n",
       "        <tr>\n",
       "            <td>4</td>\n",
       "            <td>Park</td>\n",
       "            <td>Margaret</td>\n",
       "            <td>Sales Support Agent</td>\n",
       "            <td>2</td>\n",
       "            <td>1947-09-19 00:00:00</td>\n",
       "            <td>2003-05-03 00:00:00</td>\n",
       "            <td>683 10 Street SW</td>\n",
       "            <td>Calgary</td>\n",
       "            <td>AB</td>\n",
       "            <td>Canada</td>\n",
       "            <td>T2P 5G3</td>\n",
       "            <td>+1 (403) 263-4423</td>\n",
       "            <td>+1 (403) 263-4289</td>\n",
       "            <td>margaret@chinookcorp.com</td>\n",
       "        </tr>\n",
       "    </tbody>\n",
       "</table>"
      ],
      "text/plain": [
       "+------------+----------+-----------+---------------------+-----------+---------------------+---------------------+---------------------+----------+-------+---------+------------+-------------------+-------------------+--------------------------+\n",
       "| EmployeeId | LastName | FirstName |        Title        | ReportsTo |      BirthDate      |       HireDate      |       Address       |   City   | State | Country | PostalCode |       Phone       |        Fax        |          Email           |\n",
       "+------------+----------+-----------+---------------------+-----------+---------------------+---------------------+---------------------+----------+-------+---------+------------+-------------------+-------------------+--------------------------+\n",
       "|     1      |  Adams   |   Andrew  |   General Manager   |    None   | 1962-02-18 00:00:00 | 2002-08-14 00:00:00 | 11120 Jasper Ave NW | Edmonton |   AB  |  Canada |  T5K 2N1   | +1 (780) 428-9482 | +1 (780) 428-3457 |  andrew@chinookcorp.com  |\n",
       "|     4      |   Park   |  Margaret | Sales Support Agent |     2     | 1947-09-19 00:00:00 | 2003-05-03 00:00:00 |   683 10 Street SW  | Calgary  |   AB  |  Canada |  T2P 5G3   | +1 (403) 263-4423 | +1 (403) 263-4289 | margaret@chinookcorp.com |\n",
       "+------------+----------+-----------+---------------------+-----------+---------------------+---------------------+---------------------+----------+-------+---------+------------+-------------------+-------------------+--------------------------+"
      ]
     },
     "execution_count": 50,
     "metadata": {},
     "output_type": "execute_result"
    }
   ],
   "source": [
    "%%sql \n",
    "\n",
    "SELECT \n",
    "      *\n",
    "FROM \n",
    "      employees\n",
    "WHERE \n",
    "      HireDate > '2002-08-14' AND\n",
    "      HireDate < '2003-10-17';"
   ]
  },
  {
   "cell_type": "markdown",
   "id": "6d8d9bdd",
   "metadata": {},
   "source": [
    "<div align=\"center\" style=\" font-size: 80%; text-align: center; margin: 0 auto\">\n",
    "<img src=\"https://raw.githubusercontent.com/Explore-AI/Pictures/master/ExploreAI_logos/EAI_Blue_Dark.png\"  style=\"width:200px\";/>\n",
    "</div>"
   ]
  }
 ],
 "metadata": {
  "kernelspec": {
   "display_name": "Python 3 (ipykernel)",
   "language": "python",
   "name": "python3"
  },
  "language_info": {
   "codemirror_mode": {
    "name": "ipython",
    "version": 3
   },
   "file_extension": ".py",
   "mimetype": "text/x-python",
   "name": "python",
   "nbconvert_exporter": "python",
   "pygments_lexer": "ipython3",
   "version": "3.11.5"
  }
 },
 "nbformat": 4,
 "nbformat_minor": 5
}
